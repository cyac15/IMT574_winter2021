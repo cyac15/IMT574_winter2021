{
  "nbformat": 4,
  "nbformat_minor": 0,
  "metadata": {
    "colab": {
      "name": "project4_stayzilla.ipynb",
      "provenance": []
    },
    "kernelspec": {
      "name": "python3",
      "display_name": "Python 3"
    },
    "language_info": {
      "name": "python"
    }
  },
  "cells": [
    {
      "cell_type": "markdown",
      "metadata": {
        "id": "qDaNrt3-2d8d"
      },
      "source": [
        "## import libraries"
      ]
    },
    {
      "cell_type": "code",
      "metadata": {
        "colab": {
          "base_uri": "https://localhost:8080/"
        },
        "id": "3f9brnjO4JAe",
        "outputId": "70236d91-c26c-48b6-b0ba-f97d7c3f936d"
      },
      "source": [
        "# mount drive \n",
        "from google.colab import drive\n",
        "drive.mount('/content/gdrive')"
      ],
      "execution_count": 1,
      "outputs": [
        {
          "output_type": "stream",
          "text": [
            "Mounted at /content/gdrive\n"
          ],
          "name": "stdout"
        }
      ]
    },
    {
      "cell_type": "code",
      "metadata": {
        "id": "tyBnsTUX3YlI",
        "colab": {
          "base_uri": "https://localhost:8080/"
        },
        "outputId": "e3592f0b-5cb0-499f-cae4-bc3336a851c7"
      },
      "source": [
        "import os\n",
        "\n",
        "import pandas as pd\n",
        "import numpy as np\n",
        "import re\n",
        "\n",
        "import matplotlib.pyplot as plt\n",
        "import seaborn as sns\n",
        "\n",
        "import statsmodels.api as sm\n",
        "import statsmodels.formula.api as smf\n",
        "\n",
        "\n",
        "from sklearn import linear_model\n",
        "from sklearn.linear_model import LogisticRegression\n",
        "from sklearn.neighbors import KNeighborsClassifier\n",
        "from sklearn.tree import DecisionTreeClassifier\n",
        "from sklearn.ensemble import RandomForestClassifier\n",
        "from sklearn.svm import SVC\n",
        "\n",
        "from sklearn.feature_selection import SelectKBest\n",
        "from sklearn.feature_selection import f_regression\n",
        "\n",
        "from sklearn.cluster import KMeans\n",
        "from sklearn.cluster import AgglomerativeClustering\n",
        "import scipy.cluster.hierarchy as sch\n",
        "\n",
        "from sklearn import preprocessing\n",
        "from sklearn.decomposition import PCA\n",
        "from sklearn.preprocessing import StandardScaler\n",
        "from sklearn.model_selection import train_test_split\n",
        "from sklearn.metrics import accuracy_score, confusion_matrix, classification_report, roc_curve, roc_auc_score"
      ],
      "execution_count": 2,
      "outputs": [
        {
          "output_type": "stream",
          "text": [
            "/usr/local/lib/python3.7/dist-packages/statsmodels/tools/_testing.py:19: FutureWarning: pandas.util.testing is deprecated. Use the functions in the public API at pandas.testing instead.\n",
            "  import pandas.util.testing as tm\n"
          ],
          "name": "stderr"
        }
      ]
    },
    {
      "cell_type": "code",
      "metadata": {
        "id": "zLf5pO564Tvx"
      },
      "source": [
        "os.chdir('/content/gdrive/My Drive/IMT574_grader')"
      ],
      "execution_count": 3,
      "outputs": []
    },
    {
      "cell_type": "markdown",
      "metadata": {
        "id": "YTRcac4a2hfx"
      },
      "source": [
        "## load data"
      ]
    },
    {
      "cell_type": "markdown",
      "metadata": {
        "id": "hh96LUNL6OJA"
      },
      "source": [
        "### description\n",
        "- additional_info - Special considerations regarding this property.\n",
        "- amenities - Pipe (|) delimited list of amenities offered at the property.\n",
        "- check_in_date\n",
        "- check_out_date\n",
        "- city\n",
        "- country\n",
        "- crawl_date\n",
        "- description - Textual description of the property, as entered into the - site by the lister.\n",
        "- highlight_value - Property highlights, as entered into the site by the - lister.\n",
        "- hotel_star_rating - In case the property is a hotel, its out-of-five - star rating. Not all hotels have ratings.\n",
        "- image_count - Number of images posted to the site by the lister.\n",
        "- image_urls\n",
        "- internet - Does this property have Internet access yes/no.\n",
        "- landmark\n",
        "- latitude\n",
        "- longitude\n",
        "- occupancy - How many adults and children may book the listing.\n",
        "- pageurl\n",
        "- property_address\n",
        "- property_id\n",
        "- property_name\n",
        "- property_type - Home? Hotel? Resort? Etc.\n",
        "- qts - Crawler timestamp.\n",
        "- query_time_stamp - Copy of qts.\n",
        "- room_price\n",
        "- room_types - Number of beds and baths for the room.\n",
        "- search_term\n",
        "- service_value - Whether or not the property is verified with StayZilla - (plus some junk entries).\n",
        "- similar_hotel - Some similar listings by name.\n",
        "- sitename\n",
        "- things_to_do - Nearby activities as entered by the lister.\n",
        "- things_to_note - Special notes entered by the lister."
      ]
    },
    {
      "cell_type": "code",
      "metadata": {
        "id": "34zaGeya4ybU"
      },
      "source": [
        "# unzip the file\n",
        "from zipfile import ZipFile\n",
        "ZipFile(\"./dataset/properties-on-stayzilla.zip\").extractall(\"./dataset\")"
      ],
      "execution_count": 4,
      "outputs": []
    },
    {
      "cell_type": "code",
      "metadata": {
        "colab": {
          "base_uri": "https://localhost:8080/",
          "height": 332
        },
        "id": "U_rf35B_3vkp",
        "outputId": "c5d3a825-7c19-4463-e3a7-de8bfa760d98"
      },
      "source": [
        "df = pd.read_csv(\"./dataset/stayzilla_com-travel_sample.csv\")\n",
        "df.head(3)"
      ],
      "execution_count": 5,
      "outputs": [
        {
          "output_type": "execute_result",
          "data": {
            "text/html": [
              "<div>\n",
              "<style scoped>\n",
              "    .dataframe tbody tr th:only-of-type {\n",
              "        vertical-align: middle;\n",
              "    }\n",
              "\n",
              "    .dataframe tbody tr th {\n",
              "        vertical-align: top;\n",
              "    }\n",
              "\n",
              "    .dataframe thead th {\n",
              "        text-align: right;\n",
              "    }\n",
              "</style>\n",
              "<table border=\"1\" class=\"dataframe\">\n",
              "  <thead>\n",
              "    <tr style=\"text-align: right;\">\n",
              "      <th></th>\n",
              "      <th>additional_info</th>\n",
              "      <th>amenities</th>\n",
              "      <th>check_in_date</th>\n",
              "      <th>check_out_date</th>\n",
              "      <th>city</th>\n",
              "      <th>country</th>\n",
              "      <th>crawl_date</th>\n",
              "      <th>description</th>\n",
              "      <th>highlight_value</th>\n",
              "      <th>hotel_star_rating</th>\n",
              "      <th>image_count</th>\n",
              "      <th>image_urls</th>\n",
              "      <th>internet</th>\n",
              "      <th>landmark</th>\n",
              "      <th>latitude</th>\n",
              "      <th>longitude</th>\n",
              "      <th>occupancy</th>\n",
              "      <th>pageurl</th>\n",
              "      <th>property_address</th>\n",
              "      <th>property_id</th>\n",
              "      <th>property_name</th>\n",
              "      <th>property_type</th>\n",
              "      <th>qts</th>\n",
              "      <th>query_time_stamp</th>\n",
              "      <th>room_price</th>\n",
              "      <th>room_types</th>\n",
              "      <th>search_term</th>\n",
              "      <th>service_value</th>\n",
              "      <th>similar_hotel</th>\n",
              "      <th>sitename</th>\n",
              "      <th>things_to_do</th>\n",
              "      <th>things_to_note</th>\n",
              "      <th>uniq_id</th>\n",
              "    </tr>\n",
              "  </thead>\n",
              "  <tbody>\n",
              "    <tr>\n",
              "      <th>0</th>\n",
              "      <td>Acceptance Rate:100 percent|Response Time:&lt; 6 ...</td>\n",
              "      <td>Newspaper</td>\n",
              "      <td>04-08-2016</td>\n",
              "      <td>05-08-2016</td>\n",
              "      <td>Kalimpong</td>\n",
              "      <td>India</td>\n",
              "      <td>2016-07-20</td>\n",
              "      <td>Sangsey Valley Resort is Located at the wonder...</td>\n",
              "      <td>NaN</td>\n",
              "      <td>NaN</td>\n",
              "      <td>3.0</td>\n",
              "      <td>http://stay-imgs.stayzilla.com/resize/1200x800...</td>\n",
              "      <td>NaN</td>\n",
              "      <td>NaN</td>\n",
              "      <td>27.087429</td>\n",
              "      <td>88.531357</td>\n",
              "      <td>3 Adults 2 Kids</td>\n",
              "      <td>https://www.stayzilla.com/stays/sangsey-valley...</td>\n",
              "      <td>South Sikkim, Kalimpong</td>\n",
              "      <td>67368</td>\n",
              "      <td>Sangsey Valley Resort</td>\n",
              "      <td>Resort</td>\n",
              "      <td>2016-07-20 10:59:55 +0000</td>\n",
              "      <td>2016-07-20 10:59:55 +0000</td>\n",
              "      <td>3167per night incl. tax</td>\n",
              "      <td>3 Bedded Room</td>\n",
              "      <td>NaN</td>\n",
              "      <td>Not Verified</td>\n",
              "      <td>NaN</td>\n",
              "      <td>www.stayzilla.com</td>\n",
              "      <td>NaN</td>\n",
              "      <td>All taxes.|Complimentary Breakfast, Lunch and ...</td>\n",
              "      <td>52a63c632d90923f7f0c394a79dce191</td>\n",
              "    </tr>\n",
              "    <tr>\n",
              "      <th>1</th>\n",
              "      <td>Acceptance Rate:100 percent|Response Time:&lt; 6 ...</td>\n",
              "      <td>Parking|AC</td>\n",
              "      <td>04-08-2016</td>\n",
              "      <td>05-08-2016</td>\n",
              "      <td>Kanpur</td>\n",
              "      <td>India</td>\n",
              "      <td>2016-07-20</td>\n",
              "      <td>What should you know? Enjoy unmatched service ...</td>\n",
              "      <td>NaN</td>\n",
              "      <td>NaN</td>\n",
              "      <td>0.0</td>\n",
              "      <td>NaN</td>\n",
              "      <td>NaN</td>\n",
              "      <td>NaN</td>\n",
              "      <td>26.466461</td>\n",
              "      <td>80.347450</td>\n",
              "      <td>2 Adults 2 Kids</td>\n",
              "      <td>https://www.stayzilla.com/stays/hotel-amantran...</td>\n",
              "      <td>Ratanlal nagar, Kanpur</td>\n",
              "      <td>28733</td>\n",
              "      <td>Hotel Amantran Kanpur</td>\n",
              "      <td>Hotel</td>\n",
              "      <td>2016-07-20 10:59:55 +0000</td>\n",
              "      <td>2016-07-20 10:59:55 +0000</td>\n",
              "      <td>815per night incl. tax</td>\n",
              "      <td>Double Non-A/C Rooms</td>\n",
              "      <td>NaN</td>\n",
              "      <td>Not Verified</td>\n",
              "      <td>Hotel Mangalam|Hotel Maha Roopa Palace</td>\n",
              "      <td>www.stayzilla.com</td>\n",
              "      <td>NaN</td>\n",
              "      <td>Kindly Note:|This Tariff is not applicable for...</td>\n",
              "      <td>49ad3256fc231a4c9fdb6f6f2cc00d16</td>\n",
              "    </tr>\n",
              "    <tr>\n",
              "      <th>2</th>\n",
              "      <td>Acceptance Rate:100 percent|Response Time:&lt; 6 ...</td>\n",
              "      <td>Pickup &amp; Drop|Parking|AC</td>\n",
              "      <td>04-08-2016</td>\n",
              "      <td>05-08-2016</td>\n",
              "      <td>Jodhpur</td>\n",
              "      <td>India</td>\n",
              "      <td>2016-07-20</td>\n",
              "      <td>What should you know? A budget hotel, this acc...</td>\n",
              "      <td>NaN</td>\n",
              "      <td>NaN</td>\n",
              "      <td>18.0</td>\n",
              "      <td>http://stay-imgs.stayzilla.com/resize/1200x800...</td>\n",
              "      <td>NaN</td>\n",
              "      <td>NaN</td>\n",
              "      <td>26.279020</td>\n",
              "      <td>73.019074</td>\n",
              "      <td>2 Adults 2 Kids</td>\n",
              "      <td>https://www.stayzilla.com/stays/hotel-krishna-...</td>\n",
              "      <td>Shakti Nagar, Jodhpur</td>\n",
              "      <td>53742</td>\n",
              "      <td>Hotel Krishna</td>\n",
              "      <td>Hotel</td>\n",
              "      <td>2016-07-20 10:59:55 +0000</td>\n",
              "      <td>2016-07-20 10:59:55 +0000</td>\n",
              "      <td>1624per night incl. tax</td>\n",
              "      <td>Deluxe AC Double</td>\n",
              "      <td>NaN</td>\n",
              "      <td>Not Verified</td>\n",
              "      <td>Gouri Heritage Haveli|The Regent Hotel|Vista R...</td>\n",
              "      <td>www.stayzilla.com</td>\n",
              "      <td>NaN</td>\n",
              "      <td>All taxes.|Complimentary Tea.</td>\n",
              "      <td>8b5952e578717e20b311846f7aab031f</td>\n",
              "    </tr>\n",
              "  </tbody>\n",
              "</table>\n",
              "</div>"
            ],
            "text/plain": [
              "                                     additional_info  ...                           uniq_id\n",
              "0  Acceptance Rate:100 percent|Response Time:< 6 ...  ...  52a63c632d90923f7f0c394a79dce191\n",
              "1  Acceptance Rate:100 percent|Response Time:< 6 ...  ...  49ad3256fc231a4c9fdb6f6f2cc00d16\n",
              "2  Acceptance Rate:100 percent|Response Time:< 6 ...  ...  8b5952e578717e20b311846f7aab031f\n",
              "\n",
              "[3 rows x 33 columns]"
            ]
          },
          "metadata": {
            "tags": []
          },
          "execution_count": 5
        }
      ]
    },
    {
      "cell_type": "markdown",
      "metadata": {
        "id": "amLvtb2Q2kll"
      },
      "source": [
        "## preprocess data"
      ]
    },
    {
      "cell_type": "markdown",
      "metadata": {
        "id": "u1NFKjKf8k6H"
      },
      "source": [
        "### data profiling"
      ]
    },
    {
      "cell_type": "code",
      "metadata": {
        "colab": {
          "base_uri": "https://localhost:8080/"
        },
        "id": "-dSy7fHD5wFv",
        "outputId": "79a6ee85-436b-4b7f-b892-b83d94bbc3d1"
      },
      "source": [
        "df.shape"
      ],
      "execution_count": 6,
      "outputs": [
        {
          "output_type": "execute_result",
          "data": {
            "text/plain": [
              "(1207, 33)"
            ]
          },
          "metadata": {
            "tags": []
          },
          "execution_count": 6
        }
      ]
    },
    {
      "cell_type": "code",
      "metadata": {
        "colab": {
          "base_uri": "https://localhost:8080/"
        },
        "id": "nWfMdtCP5x9w",
        "outputId": "7fe1592a-1ab7-4aaf-d336-852459144c27"
      },
      "source": [
        "df.dtypes"
      ],
      "execution_count": 7,
      "outputs": [
        {
          "output_type": "execute_result",
          "data": {
            "text/plain": [
              "additional_info       object\n",
              "amenities             object\n",
              "check_in_date         object\n",
              "check_out_date        object\n",
              "city                  object\n",
              "country               object\n",
              "crawl_date            object\n",
              "description           object\n",
              "highlight_value       object\n",
              "hotel_star_rating    float64\n",
              "image_count          float64\n",
              "image_urls            object\n",
              "internet              object\n",
              "landmark              object\n",
              "latitude             float64\n",
              "longitude            float64\n",
              "occupancy             object\n",
              "pageurl               object\n",
              "property_address      object\n",
              "property_id            int64\n",
              "property_name         object\n",
              "property_type         object\n",
              "qts                   object\n",
              "query_time_stamp      object\n",
              "room_price            object\n",
              "room_types            object\n",
              "search_term           object\n",
              "service_value         object\n",
              "similar_hotel         object\n",
              "sitename              object\n",
              "things_to_do          object\n",
              "things_to_note        object\n",
              "uniq_id               object\n",
              "dtype: object"
            ]
          },
          "metadata": {
            "tags": []
          },
          "execution_count": 7
        }
      ]
    },
    {
      "cell_type": "code",
      "metadata": {
        "colab": {
          "base_uri": "https://localhost:8080/"
        },
        "id": "QqZJij0z8J-P",
        "outputId": "c585b308-0a73-4b3f-ee6a-3fec395ccfa5"
      },
      "source": [
        "df.isna().sum()"
      ],
      "execution_count": 8,
      "outputs": [
        {
          "output_type": "execute_result",
          "data": {
            "text/plain": [
              "additional_info         4\n",
              "amenities              53\n",
              "check_in_date           0\n",
              "check_out_date          0\n",
              "city                    0\n",
              "country                68\n",
              "crawl_date             68\n",
              "description           288\n",
              "highlight_value      1155\n",
              "hotel_star_rating    1139\n",
              "image_count           222\n",
              "image_urls            260\n",
              "internet             1139\n",
              "landmark             1139\n",
              "latitude                0\n",
              "longitude               0\n",
              "occupancy              68\n",
              "pageurl                 0\n",
              "property_address        0\n",
              "property_id             0\n",
              "property_name           0\n",
              "property_type           0\n",
              "qts                    68\n",
              "query_time_stamp        0\n",
              "room_price             68\n",
              "room_types              0\n",
              "search_term          1139\n",
              "service_value           1\n",
              "similar_hotel         382\n",
              "sitename                0\n",
              "things_to_do         1167\n",
              "things_to_note        230\n",
              "uniq_id                 0\n",
              "dtype: int64"
            ]
          },
          "metadata": {
            "tags": []
          },
          "execution_count": 8
        }
      ]
    },
    {
      "cell_type": "markdown",
      "metadata": {
        "id": "iaeK0aYr8pz0"
      },
      "source": [
        "### deal with missing value"
      ]
    },
    {
      "cell_type": "code",
      "metadata": {
        "colab": {
          "base_uri": "https://localhost:8080/"
        },
        "id": "S-lj8_0S8xA7",
        "outputId": "e3a710a1-595a-4bb2-d9ba-1dbceedd3c49"
      },
      "source": [
        "df.columns"
      ],
      "execution_count": 9,
      "outputs": [
        {
          "output_type": "execute_result",
          "data": {
            "text/plain": [
              "Index(['additional_info', 'amenities', 'check_in_date', 'check_out_date',\n",
              "       'city', 'country', 'crawl_date', 'description', 'highlight_value',\n",
              "       'hotel_star_rating', 'image_count', 'image_urls', 'internet',\n",
              "       'landmark', 'latitude', 'longitude', 'occupancy', 'pageurl',\n",
              "       'property_address', 'property_id', 'property_name', 'property_type',\n",
              "       'qts', 'query_time_stamp', 'room_price', 'room_types', 'search_term',\n",
              "       'service_value', 'similar_hotel', 'sitename', 'things_to_do',\n",
              "       'things_to_note', 'uniq_id'],\n",
              "      dtype='object')"
            ]
          },
          "metadata": {
            "tags": []
          },
          "execution_count": 9
        }
      ]
    },
    {
      "cell_type": "code",
      "metadata": {
        "colab": {
          "base_uri": "https://localhost:8080/",
          "height": 289
        },
        "id": "tMN7EWXY8zF5",
        "outputId": "0d20a60d-053b-498b-9075-74294a1693b2"
      },
      "source": [
        "# remove columns with many missing value\n",
        "cols = ['amenities', 'city', 'latitude', 'longitude', 'occupancy', 'property_type','room_price', 'room_types','service_value', 'similar_hotel']\n",
        "df = df[cols]\n",
        "df.head()"
      ],
      "execution_count": 10,
      "outputs": [
        {
          "output_type": "execute_result",
          "data": {
            "text/html": [
              "<div>\n",
              "<style scoped>\n",
              "    .dataframe tbody tr th:only-of-type {\n",
              "        vertical-align: middle;\n",
              "    }\n",
              "\n",
              "    .dataframe tbody tr th {\n",
              "        vertical-align: top;\n",
              "    }\n",
              "\n",
              "    .dataframe thead th {\n",
              "        text-align: right;\n",
              "    }\n",
              "</style>\n",
              "<table border=\"1\" class=\"dataframe\">\n",
              "  <thead>\n",
              "    <tr style=\"text-align: right;\">\n",
              "      <th></th>\n",
              "      <th>amenities</th>\n",
              "      <th>city</th>\n",
              "      <th>latitude</th>\n",
              "      <th>longitude</th>\n",
              "      <th>occupancy</th>\n",
              "      <th>property_type</th>\n",
              "      <th>room_price</th>\n",
              "      <th>room_types</th>\n",
              "      <th>service_value</th>\n",
              "      <th>similar_hotel</th>\n",
              "    </tr>\n",
              "  </thead>\n",
              "  <tbody>\n",
              "    <tr>\n",
              "      <th>0</th>\n",
              "      <td>Newspaper</td>\n",
              "      <td>Kalimpong</td>\n",
              "      <td>27.087429</td>\n",
              "      <td>88.531357</td>\n",
              "      <td>3 Adults 2 Kids</td>\n",
              "      <td>Resort</td>\n",
              "      <td>3167per night incl. tax</td>\n",
              "      <td>3 Bedded Room</td>\n",
              "      <td>Not Verified</td>\n",
              "      <td>NaN</td>\n",
              "    </tr>\n",
              "    <tr>\n",
              "      <th>1</th>\n",
              "      <td>Parking|AC</td>\n",
              "      <td>Kanpur</td>\n",
              "      <td>26.466461</td>\n",
              "      <td>80.347450</td>\n",
              "      <td>2 Adults 2 Kids</td>\n",
              "      <td>Hotel</td>\n",
              "      <td>815per night incl. tax</td>\n",
              "      <td>Double Non-A/C Rooms</td>\n",
              "      <td>Not Verified</td>\n",
              "      <td>Hotel Mangalam|Hotel Maha Roopa Palace</td>\n",
              "    </tr>\n",
              "    <tr>\n",
              "      <th>2</th>\n",
              "      <td>Pickup &amp; Drop|Parking|AC</td>\n",
              "      <td>Jodhpur</td>\n",
              "      <td>26.279020</td>\n",
              "      <td>73.019074</td>\n",
              "      <td>2 Adults 2 Kids</td>\n",
              "      <td>Hotel</td>\n",
              "      <td>1624per night incl. tax</td>\n",
              "      <td>Deluxe AC Double</td>\n",
              "      <td>Not Verified</td>\n",
              "      <td>Gouri Heritage Haveli|The Regent Hotel|Vista R...</td>\n",
              "    </tr>\n",
              "    <tr>\n",
              "      <th>3</th>\n",
              "      <td>WiFi|Newspaper|Pickup &amp; Drop|Gym|Parking|AC</td>\n",
              "      <td>Jalpaiguri</td>\n",
              "      <td>26.808519</td>\n",
              "      <td>88.823601</td>\n",
              "      <td>1 Adult 2 Kids</td>\n",
              "      <td>Hotel</td>\n",
              "      <td>3509per night incl. tax</td>\n",
              "      <td>Premium Single A/c</td>\n",
              "      <td>Not Verified</td>\n",
              "      <td>NaN</td>\n",
              "    </tr>\n",
              "    <tr>\n",
              "      <th>4</th>\n",
              "      <td>Newspaper|AC</td>\n",
              "      <td>Kanpur</td>\n",
              "      <td>26.488201</td>\n",
              "      <td>80.326630</td>\n",
              "      <td>2 Adults 2 Kids</td>\n",
              "      <td>Hotel</td>\n",
              "      <td>5802per night incl. tax</td>\n",
              "      <td>Deluxe AC Double</td>\n",
              "      <td>Not Verified</td>\n",
              "      <td>Hotel Royal Cliff</td>\n",
              "    </tr>\n",
              "  </tbody>\n",
              "</table>\n",
              "</div>"
            ],
            "text/plain": [
              "                                     amenities  ...                                      similar_hotel\n",
              "0                                    Newspaper  ...                                                NaN\n",
              "1                                   Parking|AC  ...             Hotel Mangalam|Hotel Maha Roopa Palace\n",
              "2                     Pickup & Drop|Parking|AC  ...  Gouri Heritage Haveli|The Regent Hotel|Vista R...\n",
              "3  WiFi|Newspaper|Pickup & Drop|Gym|Parking|AC  ...                                                NaN\n",
              "4                                 Newspaper|AC  ...                                  Hotel Royal Cliff\n",
              "\n",
              "[5 rows x 10 columns]"
            ]
          },
          "metadata": {
            "tags": []
          },
          "execution_count": 10
        }
      ]
    },
    {
      "cell_type": "code",
      "metadata": {
        "colab": {
          "base_uri": "https://localhost:8080/"
        },
        "id": "zvXGD-V-kTVU",
        "outputId": "739768ce-e6ed-482c-a257-ea1a8794fb1d"
      },
      "source": [
        "df.isna().sum()"
      ],
      "execution_count": 11,
      "outputs": [
        {
          "output_type": "execute_result",
          "data": {
            "text/plain": [
              "amenities         53\n",
              "city               0\n",
              "latitude           0\n",
              "longitude          0\n",
              "occupancy         68\n",
              "property_type      0\n",
              "room_price        68\n",
              "room_types         0\n",
              "service_value      1\n",
              "similar_hotel    382\n",
              "dtype: int64"
            ]
          },
          "metadata": {
            "tags": []
          },
          "execution_count": 11
        }
      ]
    },
    {
      "cell_type": "code",
      "metadata": {
        "colab": {
          "base_uri": "https://localhost:8080/"
        },
        "id": "X2NDMj0BkVpf",
        "outputId": "b812d0c7-c5d9-4bbf-8a60-899e8c10d523"
      },
      "source": [
        "#df['similar_hotel'] = df['similar_hotel'].fillna(\"no similar hotels\")\n",
        "df = df.dropna(subset=['amenities', 'city', 'occupancy', 'property_type','room_price', 'room_types','service_value'])\n",
        "df.shape"
      ],
      "execution_count": 12,
      "outputs": [
        {
          "output_type": "execute_result",
          "data": {
            "text/plain": [
              "(1086, 10)"
            ]
          },
          "metadata": {
            "tags": []
          },
          "execution_count": 12
        }
      ]
    },
    {
      "cell_type": "code",
      "metadata": {
        "colab": {
          "base_uri": "https://localhost:8080/"
        },
        "id": "MUZnGudPil_c",
        "outputId": "0e875dbd-22ac-40ae-bc36-83f50eaf26ba"
      },
      "source": [
        "df['amenities'].value_counts()"
      ],
      "execution_count": 13,
      "outputs": [
        {
          "output_type": "execute_result",
          "data": {
            "text/plain": [
              "Newspaper|AC                                                              260\n",
              "Newspaper                                                                 107\n",
              "Parking|AC                                                                 61\n",
              "AC                                                                         52\n",
              "WiFi|AC                                                                    37\n",
              "                                                                         ... \n",
              "WiFi|Card Payment|Gym|Parking|AC                                            1\n",
              "WiFi|Swimming Pool|Newspaper|Bar|Card Payment|Pickup & Drop|Parking|AC      1\n",
              "WiFi|Free Breakfast|Newspaper|Pickup & Drop|Parking|AC                      1\n",
              "WiFi|Free Breakfast|Parking|AC                                              1\n",
              "Bar|Card Payment|Elevator|AC                                                1\n",
              "Name: amenities, Length: 221, dtype: int64"
            ]
          },
          "metadata": {
            "tags": []
          },
          "execution_count": 13
        }
      ]
    },
    {
      "cell_type": "code",
      "metadata": {
        "colab": {
          "base_uri": "https://localhost:8080/"
        },
        "id": "G_6NwEINlTaG",
        "outputId": "8421bac6-7e1a-463b-b515-9e12076fa9ab"
      },
      "source": [
        "df['similar_hotel'].value_counts()"
      ],
      "execution_count": 14,
      "outputs": [
        {
          "output_type": "execute_result",
          "data": {
            "text/plain": [
              "Hotel IP Palace|Hotel Rangoli|Hotel Ganga Maiya|Hotel Monarch Inn                                 2\n",
              "Luxury Service Apartment|Luxury Service apartment 3|Wanderer Bed And Breakfast|Salam Residency    2\n",
              "Orchid Hotel|Hotel Buddha Inn|Hotel Republic|Orange Inn                                           2\n",
              "Orchid Hotel|Hotel Royal Ville|Hotel Buddha Inn|Hotel Vijay Shree Deluxe                          2\n",
              "Hotel Aryan                                                                                       2\n",
              "                                                                                                 ..\n",
              "Heritage Hotel|Hotel Dera Dundlod Kila                                                            1\n",
              "Rathore Villas|Dhillon Home Stay                                                                  1\n",
              "Hotel Sunder Palace|Priya Guest House|Baba Haveli Guest House                                     1\n",
              "Hotel RB International|Hotel Keshari Bhavan|Hotel Nandini|Hotel New International                 1\n",
              "Hotel SSJ International|Hotel IP Palace|Hotel Vinayak|Hotel Rangoli                               1\n",
              "Name: similar_hotel, Length: 817, dtype: int64"
            ]
          },
          "metadata": {
            "tags": []
          },
          "execution_count": 14
        }
      ]
    },
    {
      "cell_type": "markdown",
      "metadata": {
        "id": "FEYEZ0Qbk3Ra"
      },
      "source": [
        "### prepare features"
      ]
    },
    {
      "cell_type": "code",
      "metadata": {
        "id": "fLFcOZn0oNdA"
      },
      "source": [
        "df[\"num_similar_hotel\"] = df['similar_hotel'].str.split(\"|\").fillna(\"\").apply(list).apply(lambda x: len(x))"
      ],
      "execution_count": 15,
      "outputs": []
    },
    {
      "cell_type": "code",
      "metadata": {
        "colab": {
          "base_uri": "https://localhost:8080/"
        },
        "id": "nGXgw6SIrExd",
        "outputId": "230e273f-79d4-4c5c-cb8f-57eed0c24dec"
      },
      "source": [
        "# seperate the amenities\n",
        "temp_amenities = \"\"\n",
        "for row in df['amenities']:\n",
        "    temp_amenities += (\"|\" + row)\n",
        "#temp_df = df['amenities'].str.split(\"|\", expand = True)\n",
        "amenities_set = set(temp_amenities.split(\"|\"))\n",
        "amenities_set.pop()\n",
        "print(amenities_set)\n",
        "for amenity in amenities_set:\n",
        "    df[amenity] = np.where(df[\"amenities\"].str.contains(amenity), 1, 0)"
      ],
      "execution_count": 16,
      "outputs": [
        {
          "output_type": "stream",
          "text": [
            "{'Veg Only', 'Bar', 'Newspaper', 'Elevator', 'Free Breakfast', 'AC', 'Card Payment', 'Swimming Pool', 'Parking', 'Pickup & Drop', 'WiFi', 'Gym'}\n"
          ],
          "name": "stdout"
        }
      ]
    },
    {
      "cell_type": "code",
      "metadata": {
        "id": "acGKDk4_vKso"
      },
      "source": [
        "df[[\"occupancy_adult\", \"occupancy_kid\"]] = df[\"occupancy\"].str.split(\"Adult\", expand=True)\n",
        "df[\"occupancy_adult\"] = df[\"occupancy_adult\"].astype('int')\n",
        "df[\"occupancy_kid\"] = df[\"occupancy_kid\"].str.replace(\"s\", \"\").str.split(\"Kid\").str[0].astype('int')"
      ],
      "execution_count": 17,
      "outputs": []
    },
    {
      "cell_type": "code",
      "metadata": {
        "colab": {
          "base_uri": "https://localhost:8080/"
        },
        "id": "YrocOfdwzwTr",
        "outputId": "46e2edeb-7e6c-4c10-8c90-51e1bf8c8d10"
      },
      "source": [
        "df[\"room_price\"] = df[\"room_price\"].apply(lambda x: re.findall('\\d+', x)[0])\n",
        "df[\"room_price\"].astype(int)"
      ],
      "execution_count": 18,
      "outputs": [
        {
          "output_type": "execute_result",
          "data": {
            "text/plain": [
              "0       3167\n",
              "1        815\n",
              "2       1624\n",
              "3       3509\n",
              "4       5802\n",
              "        ... \n",
              "1134    1736\n",
              "1135    2595\n",
              "1136    2267\n",
              "1137    2446\n",
              "1138     463\n",
              "Name: room_price, Length: 1086, dtype: int64"
            ]
          },
          "metadata": {
            "tags": []
          },
          "execution_count": 18
        }
      ]
    },
    {
      "cell_type": "code",
      "metadata": {
        "id": "dljfl_qZuu8P"
      },
      "source": [
        "# 'service value': encode it to 1 if verified,  0 if not or NA\n",
        "df['service_value'] = df['service_value'].apply(lambda x: 1 if x == 'Verified' else 0)"
      ],
      "execution_count": 19,
      "outputs": []
    },
    {
      "cell_type": "code",
      "metadata": {
        "id": "23UbrmQpQxiq"
      },
      "source": [
        "# label_encoder object knows how to understand word labels. \n",
        "label_encoder = preprocessing.LabelEncoder() \n",
        "# Encode labels in column 'property_type'. \n",
        "df['encode_property_type']= label_encoder.fit_transform(df['property_type']) "
      ],
      "execution_count": 20,
      "outputs": []
    },
    {
      "cell_type": "code",
      "metadata": {
        "colab": {
          "base_uri": "https://localhost:8080/",
          "height": 411
        },
        "id": "ZuFWHUsNeOr6",
        "outputId": "89c1e9a0-8b1a-4c2c-a776-951395661225"
      },
      "source": [
        "df.head()"
      ],
      "execution_count": 21,
      "outputs": [
        {
          "output_type": "execute_result",
          "data": {
            "text/html": [
              "<div>\n",
              "<style scoped>\n",
              "    .dataframe tbody tr th:only-of-type {\n",
              "        vertical-align: middle;\n",
              "    }\n",
              "\n",
              "    .dataframe tbody tr th {\n",
              "        vertical-align: top;\n",
              "    }\n",
              "\n",
              "    .dataframe thead th {\n",
              "        text-align: right;\n",
              "    }\n",
              "</style>\n",
              "<table border=\"1\" class=\"dataframe\">\n",
              "  <thead>\n",
              "    <tr style=\"text-align: right;\">\n",
              "      <th></th>\n",
              "      <th>amenities</th>\n",
              "      <th>city</th>\n",
              "      <th>latitude</th>\n",
              "      <th>longitude</th>\n",
              "      <th>occupancy</th>\n",
              "      <th>property_type</th>\n",
              "      <th>room_price</th>\n",
              "      <th>room_types</th>\n",
              "      <th>service_value</th>\n",
              "      <th>similar_hotel</th>\n",
              "      <th>num_similar_hotel</th>\n",
              "      <th>Veg Only</th>\n",
              "      <th>Bar</th>\n",
              "      <th>Newspaper</th>\n",
              "      <th>Elevator</th>\n",
              "      <th>Free Breakfast</th>\n",
              "      <th>AC</th>\n",
              "      <th>Card Payment</th>\n",
              "      <th>Swimming Pool</th>\n",
              "      <th>Parking</th>\n",
              "      <th>Pickup &amp; Drop</th>\n",
              "      <th>WiFi</th>\n",
              "      <th>Gym</th>\n",
              "      <th>occupancy_adult</th>\n",
              "      <th>occupancy_kid</th>\n",
              "      <th>encode_property_type</th>\n",
              "    </tr>\n",
              "  </thead>\n",
              "  <tbody>\n",
              "    <tr>\n",
              "      <th>0</th>\n",
              "      <td>Newspaper</td>\n",
              "      <td>Kalimpong</td>\n",
              "      <td>27.087429</td>\n",
              "      <td>88.531357</td>\n",
              "      <td>3 Adults 2 Kids</td>\n",
              "      <td>Resort</td>\n",
              "      <td>3167</td>\n",
              "      <td>3 Bedded Room</td>\n",
              "      <td>0</td>\n",
              "      <td>NaN</td>\n",
              "      <td>0</td>\n",
              "      <td>0</td>\n",
              "      <td>0</td>\n",
              "      <td>1</td>\n",
              "      <td>0</td>\n",
              "      <td>0</td>\n",
              "      <td>0</td>\n",
              "      <td>0</td>\n",
              "      <td>0</td>\n",
              "      <td>0</td>\n",
              "      <td>0</td>\n",
              "      <td>0</td>\n",
              "      <td>0</td>\n",
              "      <td>3</td>\n",
              "      <td>2</td>\n",
              "      <td>5</td>\n",
              "    </tr>\n",
              "    <tr>\n",
              "      <th>1</th>\n",
              "      <td>Parking|AC</td>\n",
              "      <td>Kanpur</td>\n",
              "      <td>26.466461</td>\n",
              "      <td>80.347450</td>\n",
              "      <td>2 Adults 2 Kids</td>\n",
              "      <td>Hotel</td>\n",
              "      <td>815</td>\n",
              "      <td>Double Non-A/C Rooms</td>\n",
              "      <td>0</td>\n",
              "      <td>Hotel Mangalam|Hotel Maha Roopa Palace</td>\n",
              "      <td>2</td>\n",
              "      <td>0</td>\n",
              "      <td>0</td>\n",
              "      <td>0</td>\n",
              "      <td>0</td>\n",
              "      <td>0</td>\n",
              "      <td>1</td>\n",
              "      <td>0</td>\n",
              "      <td>0</td>\n",
              "      <td>1</td>\n",
              "      <td>0</td>\n",
              "      <td>0</td>\n",
              "      <td>0</td>\n",
              "      <td>2</td>\n",
              "      <td>2</td>\n",
              "      <td>2</td>\n",
              "    </tr>\n",
              "    <tr>\n",
              "      <th>2</th>\n",
              "      <td>Pickup &amp; Drop|Parking|AC</td>\n",
              "      <td>Jodhpur</td>\n",
              "      <td>26.279020</td>\n",
              "      <td>73.019074</td>\n",
              "      <td>2 Adults 2 Kids</td>\n",
              "      <td>Hotel</td>\n",
              "      <td>1624</td>\n",
              "      <td>Deluxe AC Double</td>\n",
              "      <td>0</td>\n",
              "      <td>Gouri Heritage Haveli|The Regent Hotel|Vista R...</td>\n",
              "      <td>4</td>\n",
              "      <td>0</td>\n",
              "      <td>0</td>\n",
              "      <td>0</td>\n",
              "      <td>0</td>\n",
              "      <td>0</td>\n",
              "      <td>1</td>\n",
              "      <td>0</td>\n",
              "      <td>0</td>\n",
              "      <td>1</td>\n",
              "      <td>1</td>\n",
              "      <td>0</td>\n",
              "      <td>0</td>\n",
              "      <td>2</td>\n",
              "      <td>2</td>\n",
              "      <td>2</td>\n",
              "    </tr>\n",
              "    <tr>\n",
              "      <th>3</th>\n",
              "      <td>WiFi|Newspaper|Pickup &amp; Drop|Gym|Parking|AC</td>\n",
              "      <td>Jalpaiguri</td>\n",
              "      <td>26.808519</td>\n",
              "      <td>88.823601</td>\n",
              "      <td>1 Adult 2 Kids</td>\n",
              "      <td>Hotel</td>\n",
              "      <td>3509</td>\n",
              "      <td>Premium Single A/c</td>\n",
              "      <td>0</td>\n",
              "      <td>NaN</td>\n",
              "      <td>0</td>\n",
              "      <td>0</td>\n",
              "      <td>0</td>\n",
              "      <td>1</td>\n",
              "      <td>0</td>\n",
              "      <td>0</td>\n",
              "      <td>1</td>\n",
              "      <td>0</td>\n",
              "      <td>0</td>\n",
              "      <td>1</td>\n",
              "      <td>1</td>\n",
              "      <td>1</td>\n",
              "      <td>1</td>\n",
              "      <td>1</td>\n",
              "      <td>2</td>\n",
              "      <td>2</td>\n",
              "    </tr>\n",
              "    <tr>\n",
              "      <th>4</th>\n",
              "      <td>Newspaper|AC</td>\n",
              "      <td>Kanpur</td>\n",
              "      <td>26.488201</td>\n",
              "      <td>80.326630</td>\n",
              "      <td>2 Adults 2 Kids</td>\n",
              "      <td>Hotel</td>\n",
              "      <td>5802</td>\n",
              "      <td>Deluxe AC Double</td>\n",
              "      <td>0</td>\n",
              "      <td>Hotel Royal Cliff</td>\n",
              "      <td>1</td>\n",
              "      <td>0</td>\n",
              "      <td>0</td>\n",
              "      <td>1</td>\n",
              "      <td>0</td>\n",
              "      <td>0</td>\n",
              "      <td>1</td>\n",
              "      <td>0</td>\n",
              "      <td>0</td>\n",
              "      <td>0</td>\n",
              "      <td>0</td>\n",
              "      <td>0</td>\n",
              "      <td>0</td>\n",
              "      <td>2</td>\n",
              "      <td>2</td>\n",
              "      <td>2</td>\n",
              "    </tr>\n",
              "  </tbody>\n",
              "</table>\n",
              "</div>"
            ],
            "text/plain": [
              "                                     amenities  ... encode_property_type\n",
              "0                                    Newspaper  ...                    5\n",
              "1                                   Parking|AC  ...                    2\n",
              "2                     Pickup & Drop|Parking|AC  ...                    2\n",
              "3  WiFi|Newspaper|Pickup & Drop|Gym|Parking|AC  ...                    2\n",
              "4                                 Newspaper|AC  ...                    2\n",
              "\n",
              "[5 rows x 26 columns]"
            ]
          },
          "metadata": {
            "tags": []
          },
          "execution_count": 21
        }
      ]
    },
    {
      "cell_type": "code",
      "metadata": {
        "colab": {
          "base_uri": "https://localhost:8080/"
        },
        "id": "rtIGurnCesWM",
        "outputId": "b687eec4-976e-4548-e071-35260942b521"
      },
      "source": [
        "df.dtypes"
      ],
      "execution_count": 22,
      "outputs": [
        {
          "output_type": "execute_result",
          "data": {
            "text/plain": [
              "amenities                object\n",
              "city                     object\n",
              "latitude                float64\n",
              "longitude               float64\n",
              "occupancy                object\n",
              "property_type            object\n",
              "room_price               object\n",
              "room_types               object\n",
              "service_value             int64\n",
              "similar_hotel            object\n",
              "num_similar_hotel         int64\n",
              "Veg Only                  int64\n",
              "Bar                       int64\n",
              "Newspaper                 int64\n",
              "Elevator                  int64\n",
              "Free Breakfast            int64\n",
              "AC                        int64\n",
              "Card Payment              int64\n",
              "Swimming Pool             int64\n",
              "Parking                   int64\n",
              "Pickup & Drop             int64\n",
              "WiFi                      int64\n",
              "Gym                       int64\n",
              "occupancy_adult           int64\n",
              "occupancy_kid             int64\n",
              "encode_property_type      int64\n",
              "dtype: object"
            ]
          },
          "metadata": {
            "tags": []
          },
          "execution_count": 22
        }
      ]
    },
    {
      "cell_type": "markdown",
      "metadata": {
        "id": "chRx08-72pBd"
      },
      "source": [
        "## build models"
      ]
    },
    {
      "cell_type": "markdown",
      "metadata": {
        "id": "jbJbnCq4fFE2"
      },
      "source": [
        "### use property-related and amenity-related features to predict room prices"
      ]
    },
    {
      "cell_type": "markdown",
      "metadata": {
        "id": "HsUfklBag-tn"
      },
      "source": [
        "#### fit the model"
      ]
    },
    {
      "cell_type": "code",
      "metadata": {
        "id": "rmRRvJvzj2jp",
        "colab": {
          "base_uri": "https://localhost:8080/",
          "height": 717
        },
        "outputId": "a7d2ee62-57c7-47dc-b277-505691c9d069"
      },
      "source": [
        "X = df[['num_similar_hotel', 'Gym', 'Card Payment', 'Bar', 'Elevator', 'Veg Only', \n",
        "        'Pickup & Drop', 'AC', 'Swimming Pool', 'WiFi', 'Parking', 'Newspaper', \n",
        "        'Free Breakfast', 'encode_property_type']]\n",
        "X = sm.add_constant(X)\n",
        "X = X.astype(float)\n",
        "y = df[['room_price']].astype(float)\n",
        "model = sm.OLS(y, X).fit()\n",
        "model.summary()"
      ],
      "execution_count": 23,
      "outputs": [
        {
          "output_type": "execute_result",
          "data": {
            "text/html": [
              "<table class=\"simpletable\">\n",
              "<caption>OLS Regression Results</caption>\n",
              "<tr>\n",
              "  <th>Dep. Variable:</th>       <td>room_price</td>    <th>  R-squared:         </th> <td>   0.074</td> \n",
              "</tr>\n",
              "<tr>\n",
              "  <th>Model:</th>                   <td>OLS</td>       <th>  Adj. R-squared:    </th> <td>   0.062</td> \n",
              "</tr>\n",
              "<tr>\n",
              "  <th>Method:</th>             <td>Least Squares</td>  <th>  F-statistic:       </th> <td>   6.119</td> \n",
              "</tr>\n",
              "<tr>\n",
              "  <th>Date:</th>             <td>Mon, 22 Mar 2021</td> <th>  Prob (F-statistic):</th> <td>8.28e-12</td> \n",
              "</tr>\n",
              "<tr>\n",
              "  <th>Time:</th>                 <td>23:27:47</td>     <th>  Log-Likelihood:    </th> <td> -10619.</td> \n",
              "</tr>\n",
              "<tr>\n",
              "  <th>No. Observations:</th>      <td>  1086</td>      <th>  AIC:               </th> <td>2.127e+04</td>\n",
              "</tr>\n",
              "<tr>\n",
              "  <th>Df Residuals:</th>          <td>  1071</td>      <th>  BIC:               </th> <td>2.134e+04</td>\n",
              "</tr>\n",
              "<tr>\n",
              "  <th>Df Model:</th>              <td>    14</td>      <th>                     </th>     <td> </td>    \n",
              "</tr>\n",
              "<tr>\n",
              "  <th>Covariance Type:</th>      <td>nonrobust</td>    <th>                     </th>     <td> </td>    \n",
              "</tr>\n",
              "</table>\n",
              "<table class=\"simpletable\">\n",
              "<tr>\n",
              "            <td></td>              <th>coef</th>     <th>std err</th>      <th>t</th>      <th>P>|t|</th>  <th>[0.025</th>    <th>0.975]</th>  \n",
              "</tr>\n",
              "<tr>\n",
              "  <th>const</th>                <td> 4196.0264</td> <td>  520.693</td> <td>    8.059</td> <td> 0.000</td> <td> 3174.333</td> <td> 5217.720</td>\n",
              "</tr>\n",
              "<tr>\n",
              "  <th>num_similar_hotel</th>    <td> -256.9209</td> <td>   79.703</td> <td>   -3.223</td> <td> 0.001</td> <td> -413.312</td> <td> -100.530</td>\n",
              "</tr>\n",
              "<tr>\n",
              "  <th>Gym</th>                  <td>  122.5928</td> <td>  807.641</td> <td>    0.152</td> <td> 0.879</td> <td>-1462.145</td> <td> 1707.330</td>\n",
              "</tr>\n",
              "<tr>\n",
              "  <th>Card Payment</th>         <td> -570.2472</td> <td>  380.757</td> <td>   -1.498</td> <td> 0.135</td> <td>-1317.361</td> <td>  176.866</td>\n",
              "</tr>\n",
              "<tr>\n",
              "  <th>Bar</th>                  <td>  -42.6137</td> <td>  604.205</td> <td>   -0.071</td> <td> 0.944</td> <td>-1228.173</td> <td> 1142.945</td>\n",
              "</tr>\n",
              "<tr>\n",
              "  <th>Elevator</th>             <td> -171.7018</td> <td>  474.003</td> <td>   -0.362</td> <td> 0.717</td> <td>-1101.782</td> <td>  758.378</td>\n",
              "</tr>\n",
              "<tr>\n",
              "  <th>Veg Only</th>             <td> -653.7141</td> <td>  525.854</td> <td>   -1.243</td> <td> 0.214</td> <td>-1685.535</td> <td>  378.107</td>\n",
              "</tr>\n",
              "<tr>\n",
              "  <th>Pickup & Drop</th>        <td> -475.1078</td> <td>  476.028</td> <td>   -0.998</td> <td> 0.318</td> <td>-1409.160</td> <td>  458.945</td>\n",
              "</tr>\n",
              "<tr>\n",
              "  <th>AC</th>                   <td>-1047.5823</td> <td>  311.524</td> <td>   -3.363</td> <td> 0.001</td> <td>-1658.848</td> <td> -436.316</td>\n",
              "</tr>\n",
              "<tr>\n",
              "  <th>Swimming Pool</th>        <td> 4369.8550</td> <td>  856.071</td> <td>    5.105</td> <td> 0.000</td> <td> 2690.089</td> <td> 6049.621</td>\n",
              "</tr>\n",
              "<tr>\n",
              "  <th>WiFi</th>                 <td> 1216.1552</td> <td>  323.236</td> <td>    3.762</td> <td> 0.000</td> <td>  581.907</td> <td> 1850.404</td>\n",
              "</tr>\n",
              "<tr>\n",
              "  <th>Parking</th>              <td> -353.7610</td> <td>  324.284</td> <td>   -1.091</td> <td> 0.276</td> <td> -990.066</td> <td>  282.543</td>\n",
              "</tr>\n",
              "<tr>\n",
              "  <th>Newspaper</th>            <td>   58.5207</td> <td>  292.470</td> <td>    0.200</td> <td> 0.841</td> <td> -515.359</td> <td>  632.400</td>\n",
              "</tr>\n",
              "<tr>\n",
              "  <th>Free Breakfast</th>       <td> -832.8295</td> <td>  499.909</td> <td>   -1.666</td> <td> 0.096</td> <td>-1813.742</td> <td>  148.083</td>\n",
              "</tr>\n",
              "<tr>\n",
              "  <th>encode_property_type</th> <td> -304.6754</td> <td>  130.165</td> <td>   -2.341</td> <td> 0.019</td> <td> -560.082</td> <td>  -49.268</td>\n",
              "</tr>\n",
              "</table>\n",
              "<table class=\"simpletable\">\n",
              "<tr>\n",
              "  <th>Omnibus:</th>       <td>2186.055</td> <th>  Durbin-Watson:     </th>  <td>   1.957</td>  \n",
              "</tr>\n",
              "<tr>\n",
              "  <th>Prob(Omnibus):</th>  <td> 0.000</td>  <th>  Jarque-Bera (JB):  </th> <td>4585901.495</td>\n",
              "</tr>\n",
              "<tr>\n",
              "  <th>Skew:</th>           <td>15.453</td>  <th>  Prob(JB):          </th>  <td>    0.00</td>  \n",
              "</tr>\n",
              "<tr>\n",
              "  <th>Kurtosis:</th>       <td>319.845</td> <th>  Cond. No.          </th>  <td>    27.4</td>  \n",
              "</tr>\n",
              "</table><br/><br/>Warnings:<br/>[1] Standard Errors assume that the covariance matrix of the errors is correctly specified."
            ],
            "text/plain": [
              "<class 'statsmodels.iolib.summary.Summary'>\n",
              "\"\"\"\n",
              "                            OLS Regression Results                            \n",
              "==============================================================================\n",
              "Dep. Variable:             room_price   R-squared:                       0.074\n",
              "Model:                            OLS   Adj. R-squared:                  0.062\n",
              "Method:                 Least Squares   F-statistic:                     6.119\n",
              "Date:                Mon, 22 Mar 2021   Prob (F-statistic):           8.28e-12\n",
              "Time:                        23:27:47   Log-Likelihood:                -10619.\n",
              "No. Observations:                1086   AIC:                         2.127e+04\n",
              "Df Residuals:                    1071   BIC:                         2.134e+04\n",
              "Df Model:                          14                                         \n",
              "Covariance Type:            nonrobust                                         \n",
              "========================================================================================\n",
              "                           coef    std err          t      P>|t|      [0.025      0.975]\n",
              "----------------------------------------------------------------------------------------\n",
              "const                 4196.0264    520.693      8.059      0.000    3174.333    5217.720\n",
              "num_similar_hotel     -256.9209     79.703     -3.223      0.001    -413.312    -100.530\n",
              "Gym                    122.5928    807.641      0.152      0.879   -1462.145    1707.330\n",
              "Card Payment          -570.2472    380.757     -1.498      0.135   -1317.361     176.866\n",
              "Bar                    -42.6137    604.205     -0.071      0.944   -1228.173    1142.945\n",
              "Elevator              -171.7018    474.003     -0.362      0.717   -1101.782     758.378\n",
              "Veg Only              -653.7141    525.854     -1.243      0.214   -1685.535     378.107\n",
              "Pickup & Drop         -475.1078    476.028     -0.998      0.318   -1409.160     458.945\n",
              "AC                   -1047.5823    311.524     -3.363      0.001   -1658.848    -436.316\n",
              "Swimming Pool         4369.8550    856.071      5.105      0.000    2690.089    6049.621\n",
              "WiFi                  1216.1552    323.236      3.762      0.000     581.907    1850.404\n",
              "Parking               -353.7610    324.284     -1.091      0.276    -990.066     282.543\n",
              "Newspaper               58.5207    292.470      0.200      0.841    -515.359     632.400\n",
              "Free Breakfast        -832.8295    499.909     -1.666      0.096   -1813.742     148.083\n",
              "encode_property_type  -304.6754    130.165     -2.341      0.019    -560.082     -49.268\n",
              "==============================================================================\n",
              "Omnibus:                     2186.055   Durbin-Watson:                   1.957\n",
              "Prob(Omnibus):                  0.000   Jarque-Bera (JB):          4585901.495\n",
              "Skew:                          15.453   Prob(JB):                         0.00\n",
              "Kurtosis:                     319.845   Cond. No.                         27.4\n",
              "==============================================================================\n",
              "\n",
              "Warnings:\n",
              "[1] Standard Errors assume that the covariance matrix of the errors is correctly specified.\n",
              "\"\"\""
            ]
          },
          "metadata": {
            "tags": []
          },
          "execution_count": 23
        }
      ]
    },
    {
      "cell_type": "markdown",
      "metadata": {
        "id": "FiMV78w7fauY"
      },
      "source": [
        "### use location and occumancy to predict property types"
      ]
    },
    {
      "cell_type": "markdown",
      "metadata": {
        "id": "3PdhVHjCfwZl"
      },
      "source": [
        "#### train test split"
      ]
    },
    {
      "cell_type": "code",
      "metadata": {
        "colab": {
          "base_uri": "https://localhost:8080/"
        },
        "id": "qUtdgF8h1Cwg",
        "outputId": "2d0e17aa-84a5-4848-d287-876f2f2260af"
      },
      "source": [
        "df.columns"
      ],
      "execution_count": 24,
      "outputs": [
        {
          "output_type": "execute_result",
          "data": {
            "text/plain": [
              "Index(['amenities', 'city', 'latitude', 'longitude', 'occupancy',\n",
              "       'property_type', 'room_price', 'room_types', 'service_value',\n",
              "       'similar_hotel', 'num_similar_hotel', 'Veg Only', 'Bar', 'Newspaper',\n",
              "       'Elevator', 'Free Breakfast', 'AC', 'Card Payment', 'Swimming Pool',\n",
              "       'Parking', 'Pickup & Drop', 'WiFi', 'Gym', 'occupancy_adult',\n",
              "       'occupancy_kid', 'encode_property_type'],\n",
              "      dtype='object')"
            ]
          },
          "metadata": {
            "tags": []
          },
          "execution_count": 24
        }
      ]
    },
    {
      "cell_type": "code",
      "metadata": {
        "id": "D3skn-jmf2fH"
      },
      "source": [
        "#Create X and y\n",
        "X = df[['latitude', 'longitude', 'occupancy_adult', 'occupancy_kid', 'encode_property_type']]\n",
        "y = df[['encode_property_type']]\n",
        "\n",
        "#Create training and testing set\n",
        "X_train, X_test, y_train, y_test = train_test_split(X, y, test_size=0.3, random_state=42)"
      ],
      "execution_count": 25,
      "outputs": []
    },
    {
      "cell_type": "markdown",
      "metadata": {
        "id": "aJVbrJtrzL4o"
      },
      "source": [
        "#### fit the model"
      ]
    },
    {
      "cell_type": "markdown",
      "metadata": {
        "id": "_ZHXs9HR0MCU"
      },
      "source": [
        "- svm"
      ]
    },
    {
      "cell_type": "code",
      "metadata": {
        "colab": {
          "base_uri": "https://localhost:8080/"
        },
        "id": "-OikPuPL0ChR",
        "outputId": "2681d482-c0f8-4bd9-8b3d-9f4b8d491d09"
      },
      "source": [
        "#Building the SVC model and fitting the training data\n",
        "model = SVC(kernel='linear')\n",
        "model.fit(X_train,y_train.values.ravel())\n",
        "\n",
        "#Predicting on the test data\n",
        "predictions = model.predict(X_test)\n",
        "\n",
        "#Printing the accuracy\n",
        "print(\"Accuracy:\", accuracy_score(y_test, predictions))\n",
        "#Printing the confusion matrix\n",
        "print(confusion_matrix(y_test,predictions))\n",
        "#Printing the classification report\n",
        "print(classification_report(y_test,predictions))"
      ],
      "execution_count": 26,
      "outputs": [
        {
          "output_type": "stream",
          "text": [
            "Accuracy: 0.9969325153374233\n",
            "[[  5   0   0   0   0   0   0   0]\n",
            " [  0  13   0   0   0   0   0   0]\n",
            " [  0   0 243   0   0   0   0   0]\n",
            " [  0   0   0  37   0   0   0   0]\n",
            " [  0   0   0   0   8   0   0   0]\n",
            " [  0   0   0   0   0  15   0   0]\n",
            " [  0   0   0   0   0   1   0   0]\n",
            " [  0   0   0   0   0   0   0   4]]\n",
            "              precision    recall  f1-score   support\n",
            "\n",
            "           0       1.00      1.00      1.00         5\n",
            "           1       1.00      1.00      1.00        13\n",
            "           2       1.00      1.00      1.00       243\n",
            "           3       1.00      1.00      1.00        37\n",
            "           4       1.00      1.00      1.00         8\n",
            "           5       0.94      1.00      0.97        15\n",
            "           6       0.00      0.00      0.00         1\n",
            "           7       1.00      1.00      1.00         4\n",
            "\n",
            "    accuracy                           1.00       326\n",
            "   macro avg       0.87      0.88      0.87       326\n",
            "weighted avg       0.99      1.00      1.00       326\n",
            "\n"
          ],
          "name": "stdout"
        },
        {
          "output_type": "stream",
          "text": [
            "/usr/local/lib/python3.7/dist-packages/sklearn/metrics/_classification.py:1272: UndefinedMetricWarning: Precision and F-score are ill-defined and being set to 0.0 in labels with no predicted samples. Use `zero_division` parameter to control this behavior.\n",
            "  _warn_prf(average, modifier, msg_start, len(result))\n"
          ],
          "name": "stderr"
        }
      ]
    },
    {
      "cell_type": "markdown",
      "metadata": {
        "id": "ZM3lBCea0N-W"
      },
      "source": [
        "- knn"
      ]
    },
    {
      "cell_type": "code",
      "metadata": {
        "colab": {
          "base_uri": "https://localhost:8080/"
        },
        "id": "ZI759ONW0Kpd",
        "outputId": "3e8f1938-094f-4cdd-e350-06254fe0af1f"
      },
      "source": [
        "#Creating KNN Classfier model\n",
        "knn = KNeighborsClassifier(n_neighbors=3)\n",
        "\n",
        "#Fitting the training data\n",
        "knn.fit(X_train,y_train)\n",
        "\n",
        "#Predicting on the test data\n",
        "predictions = knn.predict(X_test)\n",
        "\n",
        "print(\"k=\", 3)\n",
        "#Printing Confusion matrix and accuracy socres \n",
        "print(accuracy_score(y_test,predictions))\n",
        "print(confusion_matrix(y_test,predictions))\n",
        "print(classification_report(y_test, predictions))"
      ],
      "execution_count": 27,
      "outputs": [
        {
          "output_type": "stream",
          "text": [
            "k= 3\n",
            "0.9386503067484663\n",
            "[[  3   1   1   0   0   0   0   0]\n",
            " [  0  11   2   0   0   0   0   0]\n",
            " [  0   2 241   0   0   0   0   0]\n",
            " [  0   0   7  30   0   0   0   0]\n",
            " [  0   0   1   1   5   1   0   0]\n",
            " [  0   0   1   1   0  13   0   0]\n",
            " [  0   0   0   0   0   1   0   0]\n",
            " [  0   0   0   0   0   1   0   3]]\n",
            "              precision    recall  f1-score   support\n",
            "\n",
            "           0       1.00      0.60      0.75         5\n",
            "           1       0.79      0.85      0.81        13\n",
            "           2       0.95      0.99      0.97       243\n",
            "           3       0.94      0.81      0.87        37\n",
            "           4       1.00      0.62      0.77         8\n",
            "           5       0.81      0.87      0.84        15\n",
            "           6       0.00      0.00      0.00         1\n",
            "           7       1.00      0.75      0.86         4\n",
            "\n",
            "    accuracy                           0.94       326\n",
            "   macro avg       0.81      0.69      0.73       326\n",
            "weighted avg       0.94      0.94      0.94       326\n",
            "\n"
          ],
          "name": "stdout"
        },
        {
          "output_type": "stream",
          "text": [
            "/usr/local/lib/python3.7/dist-packages/ipykernel_launcher.py:5: DataConversionWarning: A column-vector y was passed when a 1d array was expected. Please change the shape of y to (n_samples, ), for example using ravel().\n",
            "  \"\"\"\n",
            "/usr/local/lib/python3.7/dist-packages/sklearn/metrics/_classification.py:1272: UndefinedMetricWarning: Precision and F-score are ill-defined and being set to 0.0 in labels with no predicted samples. Use `zero_division` parameter to control this behavior.\n",
            "  _warn_prf(average, modifier, msg_start, len(result))\n"
          ],
          "name": "stderr"
        }
      ]
    },
    {
      "cell_type": "code",
      "metadata": {
        "id": "X3WUCQQklC7m"
      },
      "source": [
        "# df display\n",
        "pd.set_option('display.max_colwidth', 15)\n",
        "pd.set_option('display.max_columns', 12)  \n",
        "pd.set_option('display.max_rows', None)\n",
        "\n",
        "import warnings\n",
        "warnings.filterwarnings(\"ignore\")"
      ],
      "execution_count": 28,
      "outputs": []
    }
  ]
}