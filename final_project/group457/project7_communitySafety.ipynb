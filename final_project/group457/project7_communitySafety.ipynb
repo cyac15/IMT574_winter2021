{
  "nbformat": 4,
  "nbformat_minor": 0,
  "metadata": {
    "colab": {
      "name": "project7_communitySafety.ipynb",
      "provenance": []
    },
    "kernelspec": {
      "name": "python3",
      "display_name": "Python 3"
    },
    "language_info": {
      "name": "python"
    }
  },
  "cells": [
    {
      "cell_type": "markdown",
      "metadata": {
        "id": "qDaNrt3-2d8d"
      },
      "source": [
        "## import libraries"
      ]
    },
    {
      "cell_type": "code",
      "metadata": {
        "colab": {
          "base_uri": "https://localhost:8080/"
        },
        "id": "-jdrS5Km8WEk",
        "outputId": "cdfe171c-d079-47ce-ff63-6314d67e87c4"
      },
      "source": [
        "# mount drive \n",
        "from google.colab import drive\n",
        "drive.mount('/content/gdrive')"
      ],
      "execution_count": 1,
      "outputs": [
        {
          "output_type": "stream",
          "text": [
            "Drive already mounted at /content/gdrive; to attempt to forcibly remount, call drive.mount(\"/content/gdrive\", force_remount=True).\n"
          ],
          "name": "stdout"
        }
      ]
    },
    {
      "cell_type": "code",
      "metadata": {
        "colab": {
          "base_uri": "https://localhost:8080/"
        },
        "id": "L_g7stWe8GM7",
        "outputId": "9a80912d-faf0-44fd-e7ce-237b9c4ec257"
      },
      "source": [
        "import os\n",
        "\n",
        "import pandas as pd\n",
        "import numpy as np\n",
        "import re\n",
        "\n",
        "import datetime\n",
        "\n",
        "import matplotlib.pyplot as plt\n",
        "import seaborn as sns\n",
        "\n",
        "import statsmodels.api as sm\n",
        "import statsmodels.formula.api as smf\n",
        "\n",
        "\n",
        "from sklearn import linear_model\n",
        "from sklearn.linear_model import LogisticRegression\n",
        "from sklearn.neighbors import KNeighborsClassifier\n",
        "from sklearn.tree import DecisionTreeClassifier\n",
        "from sklearn.ensemble import RandomForestClassifier\n",
        "from sklearn.svm import SVC\n",
        "\n",
        "from sklearn.feature_selection import SelectKBest\n",
        "from sklearn.feature_selection import f_regression\n",
        "\n",
        "from sklearn.cluster import KMeans\n",
        "from sklearn.cluster import AgglomerativeClustering\n",
        "import scipy.cluster.hierarchy as sch\n",
        "\n",
        "from sklearn import preprocessing\n",
        "from sklearn.decomposition import PCA\n",
        "from sklearn.preprocessing import StandardScaler\n",
        "from sklearn.model_selection import train_test_split\n",
        "from sklearn.metrics import accuracy_score, confusion_matrix, classification_report, roc_curve, roc_auc_score\n",
        "\n",
        "import warnings\n",
        "warnings.filterwarnings(\"ignore\")\n",
        "\n",
        "os.chdir('/content/gdrive/My Drive/IMT574_grader')"
      ],
      "execution_count": 2,
      "outputs": [
        {
          "output_type": "stream",
          "text": [
            "/usr/local/lib/python3.7/dist-packages/statsmodels/tools/_testing.py:19: FutureWarning: pandas.util.testing is deprecated. Use the functions in the public API at pandas.testing instead.\n",
            "  import pandas.util.testing as tm\n"
          ],
          "name": "stderr"
        }
      ]
    },
    {
      "cell_type": "markdown",
      "metadata": {
        "id": "YTRcac4a2hfx"
      },
      "source": [
        "## load data"
      ]
    },
    {
      "cell_type": "code",
      "metadata": {
        "colab": {
          "base_uri": "https://localhost:8080/",
          "height": 411
        },
        "id": "Y_Qx71Sz8fHT",
        "outputId": "3f56ef28-63f0-455e-963f-0d6731491dc2"
      },
      "source": [
        "df_chicago = pd.read_csv(\"https://data.cityofchicago.org/api/views/ijzp-q8t2/rows.csv?accessType=DOWNLOAD\")\n",
        "df_chicago.head()"
      ],
      "execution_count": 3,
      "outputs": [
        {
          "output_type": "execute_result",
          "data": {
            "text/html": [
              "<div>\n",
              "<style scoped>\n",
              "    .dataframe tbody tr th:only-of-type {\n",
              "        vertical-align: middle;\n",
              "    }\n",
              "\n",
              "    .dataframe tbody tr th {\n",
              "        vertical-align: top;\n",
              "    }\n",
              "\n",
              "    .dataframe thead th {\n",
              "        text-align: right;\n",
              "    }\n",
              "</style>\n",
              "<table border=\"1\" class=\"dataframe\">\n",
              "  <thead>\n",
              "    <tr style=\"text-align: right;\">\n",
              "      <th></th>\n",
              "      <th>ID</th>\n",
              "      <th>Case Number</th>\n",
              "      <th>Date</th>\n",
              "      <th>Block</th>\n",
              "      <th>IUCR</th>\n",
              "      <th>Primary Type</th>\n",
              "      <th>Description</th>\n",
              "      <th>Location Description</th>\n",
              "      <th>Arrest</th>\n",
              "      <th>Domestic</th>\n",
              "      <th>Beat</th>\n",
              "      <th>District</th>\n",
              "      <th>Ward</th>\n",
              "      <th>Community Area</th>\n",
              "      <th>FBI Code</th>\n",
              "      <th>X Coordinate</th>\n",
              "      <th>Y Coordinate</th>\n",
              "      <th>Year</th>\n",
              "      <th>Updated On</th>\n",
              "      <th>Latitude</th>\n",
              "      <th>Longitude</th>\n",
              "      <th>Location</th>\n",
              "    </tr>\n",
              "  </thead>\n",
              "  <tbody>\n",
              "    <tr>\n",
              "      <th>0</th>\n",
              "      <td>10224738</td>\n",
              "      <td>HY411648</td>\n",
              "      <td>09/05/2015 01:30:00 PM</td>\n",
              "      <td>043XX S WOOD ST</td>\n",
              "      <td>0486</td>\n",
              "      <td>BATTERY</td>\n",
              "      <td>DOMESTIC BATTERY SIMPLE</td>\n",
              "      <td>RESIDENCE</td>\n",
              "      <td>False</td>\n",
              "      <td>True</td>\n",
              "      <td>924</td>\n",
              "      <td>9.0</td>\n",
              "      <td>12.0</td>\n",
              "      <td>61.0</td>\n",
              "      <td>08B</td>\n",
              "      <td>1165074.0</td>\n",
              "      <td>1875917.0</td>\n",
              "      <td>2015</td>\n",
              "      <td>02/10/2018 03:50:01 PM</td>\n",
              "      <td>41.815117</td>\n",
              "      <td>-87.670000</td>\n",
              "      <td>(41.815117282, -87.669999562)</td>\n",
              "    </tr>\n",
              "    <tr>\n",
              "      <th>1</th>\n",
              "      <td>10224739</td>\n",
              "      <td>HY411615</td>\n",
              "      <td>09/04/2015 11:30:00 AM</td>\n",
              "      <td>008XX N CENTRAL AVE</td>\n",
              "      <td>0870</td>\n",
              "      <td>THEFT</td>\n",
              "      <td>POCKET-PICKING</td>\n",
              "      <td>CTA BUS</td>\n",
              "      <td>False</td>\n",
              "      <td>False</td>\n",
              "      <td>1511</td>\n",
              "      <td>15.0</td>\n",
              "      <td>29.0</td>\n",
              "      <td>25.0</td>\n",
              "      <td>06</td>\n",
              "      <td>1138875.0</td>\n",
              "      <td>1904869.0</td>\n",
              "      <td>2015</td>\n",
              "      <td>02/10/2018 03:50:01 PM</td>\n",
              "      <td>41.895080</td>\n",
              "      <td>-87.765400</td>\n",
              "      <td>(41.895080471, -87.765400451)</td>\n",
              "    </tr>\n",
              "    <tr>\n",
              "      <th>2</th>\n",
              "      <td>11646166</td>\n",
              "      <td>JC213529</td>\n",
              "      <td>09/01/2018 12:01:00 AM</td>\n",
              "      <td>082XX S INGLESIDE AVE</td>\n",
              "      <td>0810</td>\n",
              "      <td>THEFT</td>\n",
              "      <td>OVER $500</td>\n",
              "      <td>RESIDENCE</td>\n",
              "      <td>False</td>\n",
              "      <td>True</td>\n",
              "      <td>631</td>\n",
              "      <td>6.0</td>\n",
              "      <td>8.0</td>\n",
              "      <td>44.0</td>\n",
              "      <td>06</td>\n",
              "      <td>NaN</td>\n",
              "      <td>NaN</td>\n",
              "      <td>2018</td>\n",
              "      <td>04/06/2019 04:04:43 PM</td>\n",
              "      <td>NaN</td>\n",
              "      <td>NaN</td>\n",
              "      <td>NaN</td>\n",
              "    </tr>\n",
              "    <tr>\n",
              "      <th>3</th>\n",
              "      <td>10224740</td>\n",
              "      <td>HY411595</td>\n",
              "      <td>09/05/2015 12:45:00 PM</td>\n",
              "      <td>035XX W BARRY AVE</td>\n",
              "      <td>2023</td>\n",
              "      <td>NARCOTICS</td>\n",
              "      <td>POSS: HEROIN(BRN/TAN)</td>\n",
              "      <td>SIDEWALK</td>\n",
              "      <td>True</td>\n",
              "      <td>False</td>\n",
              "      <td>1412</td>\n",
              "      <td>14.0</td>\n",
              "      <td>35.0</td>\n",
              "      <td>21.0</td>\n",
              "      <td>18</td>\n",
              "      <td>1152037.0</td>\n",
              "      <td>1920384.0</td>\n",
              "      <td>2015</td>\n",
              "      <td>02/10/2018 03:50:01 PM</td>\n",
              "      <td>41.937406</td>\n",
              "      <td>-87.716650</td>\n",
              "      <td>(41.937405765, -87.716649687)</td>\n",
              "    </tr>\n",
              "    <tr>\n",
              "      <th>4</th>\n",
              "      <td>10224741</td>\n",
              "      <td>HY411610</td>\n",
              "      <td>09/05/2015 01:00:00 PM</td>\n",
              "      <td>0000X N LARAMIE AVE</td>\n",
              "      <td>0560</td>\n",
              "      <td>ASSAULT</td>\n",
              "      <td>SIMPLE</td>\n",
              "      <td>APARTMENT</td>\n",
              "      <td>False</td>\n",
              "      <td>True</td>\n",
              "      <td>1522</td>\n",
              "      <td>15.0</td>\n",
              "      <td>28.0</td>\n",
              "      <td>25.0</td>\n",
              "      <td>08A</td>\n",
              "      <td>1141706.0</td>\n",
              "      <td>1900086.0</td>\n",
              "      <td>2015</td>\n",
              "      <td>02/10/2018 03:50:01 PM</td>\n",
              "      <td>41.881903</td>\n",
              "      <td>-87.755121</td>\n",
              "      <td>(41.881903443, -87.755121152)</td>\n",
              "    </tr>\n",
              "  </tbody>\n",
              "</table>\n",
              "</div>"
            ],
            "text/plain": [
              "         ID Case Number  ...  Longitude                       Location\n",
              "0  10224738    HY411648  ... -87.670000  (41.815117282, -87.669999562)\n",
              "1  10224739    HY411615  ... -87.765400  (41.895080471, -87.765400451)\n",
              "2  11646166    JC213529  ...        NaN                            NaN\n",
              "3  10224740    HY411595  ... -87.716650  (41.937405765, -87.716649687)\n",
              "4  10224741    HY411610  ... -87.755121  (41.881903443, -87.755121152)\n",
              "\n",
              "[5 rows x 22 columns]"
            ]
          },
          "metadata": {
            "tags": []
          },
          "execution_count": 3
        }
      ]
    },
    {
      "cell_type": "code",
      "metadata": {
        "id": "Bzs8y1Oj9s3N"
      },
      "source": [
        "df_chicago.to_pickle(\"./df_chicago.pkl\")"
      ],
      "execution_count": 4,
      "outputs": []
    },
    {
      "cell_type": "code",
      "metadata": {
        "colab": {
          "base_uri": "https://localhost:8080/",
          "height": 428
        },
        "id": "Fkr64wKCCR6l",
        "outputId": "31e61365-d80d-4750-e667-bc9c1e3a9b5a"
      },
      "source": [
        "df_NY = pd.read_csv(\"https://data.cityofnewyork.us/api/views/5uac-w243/rows.csv?accessType=DOWNLOAD\")\n",
        "df_NY.head()"
      ],
      "execution_count": 5,
      "outputs": [
        {
          "output_type": "execute_result",
          "data": {
            "text/html": [
              "<div>\n",
              "<style scoped>\n",
              "    .dataframe tbody tr th:only-of-type {\n",
              "        vertical-align: middle;\n",
              "    }\n",
              "\n",
              "    .dataframe tbody tr th {\n",
              "        vertical-align: top;\n",
              "    }\n",
              "\n",
              "    .dataframe thead th {\n",
              "        text-align: right;\n",
              "    }\n",
              "</style>\n",
              "<table border=\"1\" class=\"dataframe\">\n",
              "  <thead>\n",
              "    <tr style=\"text-align: right;\">\n",
              "      <th></th>\n",
              "      <th>CMPLNT_NUM</th>\n",
              "      <th>ADDR_PCT_CD</th>\n",
              "      <th>BORO_NM</th>\n",
              "      <th>CMPLNT_FR_DT</th>\n",
              "      <th>CMPLNT_FR_TM</th>\n",
              "      <th>CMPLNT_TO_DT</th>\n",
              "      <th>CMPLNT_TO_TM</th>\n",
              "      <th>CRM_ATPT_CPTD_CD</th>\n",
              "      <th>HADEVELOPT</th>\n",
              "      <th>HOUSING_PSA</th>\n",
              "      <th>JURISDICTION_CODE</th>\n",
              "      <th>JURIS_DESC</th>\n",
              "      <th>KY_CD</th>\n",
              "      <th>LAW_CAT_CD</th>\n",
              "      <th>LOC_OF_OCCUR_DESC</th>\n",
              "      <th>OFNS_DESC</th>\n",
              "      <th>PARKS_NM</th>\n",
              "      <th>PATROL_BORO</th>\n",
              "      <th>PD_CD</th>\n",
              "      <th>PD_DESC</th>\n",
              "      <th>PREM_TYP_DESC</th>\n",
              "      <th>RPT_DT</th>\n",
              "      <th>STATION_NAME</th>\n",
              "      <th>SUSP_AGE_GROUP</th>\n",
              "      <th>SUSP_RACE</th>\n",
              "      <th>SUSP_SEX</th>\n",
              "      <th>TRANSIT_DISTRICT</th>\n",
              "      <th>VIC_AGE_GROUP</th>\n",
              "      <th>VIC_RACE</th>\n",
              "      <th>VIC_SEX</th>\n",
              "      <th>X_COORD_CD</th>\n",
              "      <th>Y_COORD_CD</th>\n",
              "      <th>Latitude</th>\n",
              "      <th>Longitude</th>\n",
              "      <th>Lat_Lon</th>\n",
              "      <th>New Georeferenced Column</th>\n",
              "    </tr>\n",
              "  </thead>\n",
              "  <tbody>\n",
              "    <tr>\n",
              "      <th>0</th>\n",
              "      <td>885776788</td>\n",
              "      <td>66</td>\n",
              "      <td>NaN</td>\n",
              "      <td>12/23/2020</td>\n",
              "      <td>19:50:00</td>\n",
              "      <td>NaN</td>\n",
              "      <td>NaN</td>\n",
              "      <td>COMPLETED</td>\n",
              "      <td>NaN</td>\n",
              "      <td>NaN</td>\n",
              "      <td>NaN</td>\n",
              "      <td>N.Y. POLICE DEPT</td>\n",
              "      <td>101</td>\n",
              "      <td>FELONY</td>\n",
              "      <td>OUTSIDE</td>\n",
              "      <td>MURDER &amp; NON-NEGL. MANSLAUGHTER</td>\n",
              "      <td>NaN</td>\n",
              "      <td>NaN</td>\n",
              "      <td>NaN</td>\n",
              "      <td>NaN</td>\n",
              "      <td>NaN</td>\n",
              "      <td>12/23/2020</td>\n",
              "      <td>NaN</td>\n",
              "      <td>NaN</td>\n",
              "      <td>NaN</td>\n",
              "      <td>NaN</td>\n",
              "      <td>NaN</td>\n",
              "      <td>18-24</td>\n",
              "      <td>BLACK</td>\n",
              "      <td>M</td>\n",
              "      <td>986633</td>\n",
              "      <td>167258</td>\n",
              "      <td>40.625769</td>\n",
              "      <td>-73.991417</td>\n",
              "      <td>(40.62576896100006, -73.99141682199996)</td>\n",
              "      <td>POINT (-73.99141682199996 40.62576896100006)</td>\n",
              "    </tr>\n",
              "    <tr>\n",
              "      <th>1</th>\n",
              "      <td>350637195</td>\n",
              "      <td>77</td>\n",
              "      <td>NaN</td>\n",
              "      <td>12/21/2020</td>\n",
              "      <td>01:10:00</td>\n",
              "      <td>NaN</td>\n",
              "      <td>NaN</td>\n",
              "      <td>COMPLETED</td>\n",
              "      <td>NaN</td>\n",
              "      <td>NaN</td>\n",
              "      <td>NaN</td>\n",
              "      <td>N.Y. POLICE DEPT</td>\n",
              "      <td>101</td>\n",
              "      <td>FELONY</td>\n",
              "      <td>INSIDE</td>\n",
              "      <td>MURDER &amp; NON-NEGL. MANSLAUGHTER</td>\n",
              "      <td>NaN</td>\n",
              "      <td>NaN</td>\n",
              "      <td>NaN</td>\n",
              "      <td>NaN</td>\n",
              "      <td>NaN</td>\n",
              "      <td>12/21/2020</td>\n",
              "      <td>NaN</td>\n",
              "      <td>NaN</td>\n",
              "      <td>NaN</td>\n",
              "      <td>NaN</td>\n",
              "      <td>NaN</td>\n",
              "      <td>25-44</td>\n",
              "      <td>BLACK</td>\n",
              "      <td>M</td>\n",
              "      <td>1003606</td>\n",
              "      <td>185050</td>\n",
              "      <td>40.674583</td>\n",
              "      <td>-73.930222</td>\n",
              "      <td>(40.67458330800008, -73.93022154099998)</td>\n",
              "      <td>POINT (-73.93022154099998 40.67458330800008)</td>\n",
              "    </tr>\n",
              "    <tr>\n",
              "      <th>2</th>\n",
              "      <td>347843168</td>\n",
              "      <td>43</td>\n",
              "      <td>BRONX</td>\n",
              "      <td>11/22/2020</td>\n",
              "      <td>22:00:00</td>\n",
              "      <td>NaN</td>\n",
              "      <td>NaN</td>\n",
              "      <td>COMPLETED</td>\n",
              "      <td>NaN</td>\n",
              "      <td>NaN</td>\n",
              "      <td>0.0</td>\n",
              "      <td>N.Y. POLICE DEPT</td>\n",
              "      <td>104</td>\n",
              "      <td>FELONY</td>\n",
              "      <td>NaN</td>\n",
              "      <td>RAPE</td>\n",
              "      <td>NaN</td>\n",
              "      <td>PATROL BORO BRONX</td>\n",
              "      <td>157.0</td>\n",
              "      <td>RAPE 1</td>\n",
              "      <td>STREET</td>\n",
              "      <td>11/23/2020</td>\n",
              "      <td>NaN</td>\n",
              "      <td>UNKNOWN</td>\n",
              "      <td>UNKNOWN</td>\n",
              "      <td>U</td>\n",
              "      <td>NaN</td>\n",
              "      <td>25-44</td>\n",
              "      <td>BLACK</td>\n",
              "      <td>F</td>\n",
              "      <td>1020316</td>\n",
              "      <td>239179</td>\n",
              "      <td>40.823101</td>\n",
              "      <td>-73.869690</td>\n",
              "      <td>(40.82310129900002, -73.86969046099993)</td>\n",
              "      <td>POINT (-73.86969046099993 40.82310129900002)</td>\n",
              "    </tr>\n",
              "    <tr>\n",
              "      <th>3</th>\n",
              "      <td>197941396</td>\n",
              "      <td>47</td>\n",
              "      <td>NaN</td>\n",
              "      <td>11/22/2020</td>\n",
              "      <td>09:50:00</td>\n",
              "      <td>NaN</td>\n",
              "      <td>NaN</td>\n",
              "      <td>COMPLETED</td>\n",
              "      <td>NaN</td>\n",
              "      <td>NaN</td>\n",
              "      <td>NaN</td>\n",
              "      <td>N.Y. POLICE DEPT</td>\n",
              "      <td>101</td>\n",
              "      <td>FELONY</td>\n",
              "      <td>INSIDE</td>\n",
              "      <td>MURDER &amp; NON-NEGL. MANSLAUGHTER</td>\n",
              "      <td>NaN</td>\n",
              "      <td>NaN</td>\n",
              "      <td>NaN</td>\n",
              "      <td>NaN</td>\n",
              "      <td>NaN</td>\n",
              "      <td>11/22/2020</td>\n",
              "      <td>NaN</td>\n",
              "      <td>25-44</td>\n",
              "      <td>BLACK</td>\n",
              "      <td>M</td>\n",
              "      <td>NaN</td>\n",
              "      <td>25-44</td>\n",
              "      <td>BLACK</td>\n",
              "      <td>F</td>\n",
              "      <td>1026387</td>\n",
              "      <td>262634</td>\n",
              "      <td>40.887451</td>\n",
              "      <td>-73.847608</td>\n",
              "      <td>(40.88745131300004, -73.84760778699997)</td>\n",
              "      <td>POINT (-73.84760778699997 40.88745131300004)</td>\n",
              "    </tr>\n",
              "    <tr>\n",
              "      <th>4</th>\n",
              "      <td>298404927</td>\n",
              "      <td>25</td>\n",
              "      <td>NaN</td>\n",
              "      <td>11/21/2020</td>\n",
              "      <td>15:38:00</td>\n",
              "      <td>NaN</td>\n",
              "      <td>NaN</td>\n",
              "      <td>COMPLETED</td>\n",
              "      <td>NaN</td>\n",
              "      <td>NaN</td>\n",
              "      <td>NaN</td>\n",
              "      <td>N.Y. HOUSING POLICE</td>\n",
              "      <td>101</td>\n",
              "      <td>FELONY</td>\n",
              "      <td>OUTSIDE</td>\n",
              "      <td>MURDER &amp; NON-NEGL. MANSLAUGHTER</td>\n",
              "      <td>NaN</td>\n",
              "      <td>NaN</td>\n",
              "      <td>NaN</td>\n",
              "      <td>NaN</td>\n",
              "      <td>NaN</td>\n",
              "      <td>11/21/2020</td>\n",
              "      <td>NaN</td>\n",
              "      <td>NaN</td>\n",
              "      <td>NaN</td>\n",
              "      <td>NaN</td>\n",
              "      <td>NaN</td>\n",
              "      <td>18-24</td>\n",
              "      <td>BLACK HISPANIC</td>\n",
              "      <td>M</td>\n",
              "      <td>1003396</td>\n",
              "      <td>230824</td>\n",
              "      <td>40.800222</td>\n",
              "      <td>-73.930848</td>\n",
              "      <td>(40.80022202900005, -73.93084834199995)</td>\n",
              "      <td>POINT (-73.93084834199995 40.80022202900005)</td>\n",
              "    </tr>\n",
              "  </tbody>\n",
              "</table>\n",
              "</div>"
            ],
            "text/plain": [
              "   CMPLNT_NUM  ...                      New Georeferenced Column\n",
              "0   885776788  ...  POINT (-73.99141682199996 40.62576896100006)\n",
              "1   350637195  ...  POINT (-73.93022154099998 40.67458330800008)\n",
              "2   347843168  ...  POINT (-73.86969046099993 40.82310129900002)\n",
              "3   197941396  ...  POINT (-73.84760778699997 40.88745131300004)\n",
              "4   298404927  ...  POINT (-73.93084834199995 40.80022202900005)\n",
              "\n",
              "[5 rows x 36 columns]"
            ]
          },
          "metadata": {
            "tags": []
          },
          "execution_count": 5
        }
      ]
    },
    {
      "cell_type": "code",
      "metadata": {
        "colab": {
          "base_uri": "https://localhost:8080/",
          "height": 204
        },
        "id": "cXWQVCS29abl",
        "outputId": "613d195d-1acb-451b-df0d-b6a6a6e89919"
      },
      "source": [
        "df_NY_geo = pd.read_csv(\"https://data.cityofnewyork.us/api/views/kmub-vria/rows.csv?accessType=DOWNLOAD\")\n",
        "df_NY_geo.head()"
      ],
      "execution_count": 6,
      "outputs": [
        {
          "output_type": "execute_result",
          "data": {
            "text/html": [
              "<div>\n",
              "<style scoped>\n",
              "    .dataframe tbody tr th:only-of-type {\n",
              "        vertical-align: middle;\n",
              "    }\n",
              "\n",
              "    .dataframe tbody tr th {\n",
              "        vertical-align: top;\n",
              "    }\n",
              "\n",
              "    .dataframe thead th {\n",
              "        text-align: right;\n",
              "    }\n",
              "</style>\n",
              "<table border=\"1\" class=\"dataframe\">\n",
              "  <thead>\n",
              "    <tr style=\"text-align: right;\">\n",
              "      <th></th>\n",
              "      <th>Shape_Leng</th>\n",
              "      <th>the_geom</th>\n",
              "      <th>Shape_Area</th>\n",
              "      <th>Precinct</th>\n",
              "    </tr>\n",
              "  </thead>\n",
              "  <tbody>\n",
              "    <tr>\n",
              "      <th>0</th>\n",
              "      <td>80969.426497</td>\n",
              "      <td>MULTIPOLYGON (((-74.0438776157395 40.690187676...</td>\n",
              "      <td>4.731588e+07</td>\n",
              "      <td>1</td>\n",
              "    </tr>\n",
              "    <tr>\n",
              "      <th>1</th>\n",
              "      <td>18676.124259</td>\n",
              "      <td>MULTIPOLYGON (((-73.98863862848766 40.72293372...</td>\n",
              "      <td>1.808880e+07</td>\n",
              "      <td>5</td>\n",
              "    </tr>\n",
              "    <tr>\n",
              "      <th>2</th>\n",
              "      <td>26402.900691</td>\n",
              "      <td>MULTIPOLYGON (((-73.99968392160721 40.73855224...</td>\n",
              "      <td>2.209819e+07</td>\n",
              "      <td>6</td>\n",
              "    </tr>\n",
              "    <tr>\n",
              "      <th>3</th>\n",
              "      <td>29978.094261</td>\n",
              "      <td>MULTIPOLYGON (((-73.92854313809303 40.66457328...</td>\n",
              "      <td>4.533179e+07</td>\n",
              "      <td>71</td>\n",
              "    </tr>\n",
              "    <tr>\n",
              "      <th>4</th>\n",
              "      <td>87968.194520</td>\n",
              "      <td>MULTIPOLYGON (((-73.99840899113158 40.67186872...</td>\n",
              "      <td>1.046213e+08</td>\n",
              "      <td>72</td>\n",
              "    </tr>\n",
              "  </tbody>\n",
              "</table>\n",
              "</div>"
            ],
            "text/plain": [
              "     Shape_Leng  ... Precinct\n",
              "0  80969.426497  ...        1\n",
              "1  18676.124259  ...        5\n",
              "2  26402.900691  ...        6\n",
              "3  29978.094261  ...       71\n",
              "4  87968.194520  ...       72\n",
              "\n",
              "[5 rows x 4 columns]"
            ]
          },
          "metadata": {
            "tags": []
          },
          "execution_count": 6
        }
      ]
    },
    {
      "cell_type": "code",
      "metadata": {
        "id": "almJX58J93sD"
      },
      "source": [
        "df_NY.to_pickle(\"./df_NY.pkl\")"
      ],
      "execution_count": 7,
      "outputs": []
    },
    {
      "cell_type": "code",
      "metadata": {
        "colab": {
          "base_uri": "https://localhost:8080/"
        },
        "id": "AcJaVvrg_cKZ",
        "outputId": "c36d9acd-3015-4abc-d21c-48a9425a5028"
      },
      "source": [
        "df_chicago.shape"
      ],
      "execution_count": 8,
      "outputs": [
        {
          "output_type": "execute_result",
          "data": {
            "text/plain": [
              "(7295108, 22)"
            ]
          },
          "metadata": {
            "tags": []
          },
          "execution_count": 8
        }
      ]
    },
    {
      "cell_type": "code",
      "metadata": {
        "colab": {
          "base_uri": "https://localhost:8080/"
        },
        "id": "XjVj3cld_hX9",
        "outputId": "50d1bca2-3cfa-454c-afbc-35d9469908d9"
      },
      "source": [
        "df_NY.shape"
      ],
      "execution_count": 9,
      "outputs": [
        {
          "output_type": "execute_result",
          "data": {
            "text/plain": [
              "(413412, 36)"
            ]
          },
          "metadata": {
            "tags": []
          },
          "execution_count": 9
        }
      ]
    },
    {
      "cell_type": "markdown",
      "metadata": {
        "id": "amLvtb2Q2kll"
      },
      "source": [
        "## preprocess data"
      ]
    },
    {
      "cell_type": "markdown",
      "metadata": {
        "id": "FPRvDOVLV_K6"
      },
      "source": [
        "#### Chicago"
      ]
    },
    {
      "cell_type": "code",
      "metadata": {
        "id": "mL_lFJOWDv5H"
      },
      "source": [
        "df_chicago = pd.read_pickle(\"./df_chicago.pkl\")"
      ],
      "execution_count": 10,
      "outputs": []
    },
    {
      "cell_type": "code",
      "metadata": {
        "colab": {
          "base_uri": "https://localhost:8080/"
        },
        "id": "UWdWZCvnV6_Y",
        "outputId": "987c8541-9390-4a1f-add8-9fdf376a83a9"
      },
      "source": [
        "df_chicago.dtypes"
      ],
      "execution_count": 11,
      "outputs": [
        {
          "output_type": "execute_result",
          "data": {
            "text/plain": [
              "ID                        int64\n",
              "Case Number              object\n",
              "Date                     object\n",
              "Block                    object\n",
              "IUCR                     object\n",
              "Primary Type             object\n",
              "Description              object\n",
              "Location Description     object\n",
              "Arrest                     bool\n",
              "Domestic                   bool\n",
              "Beat                      int64\n",
              "District                float64\n",
              "Ward                    float64\n",
              "Community Area          float64\n",
              "FBI Code                 object\n",
              "X Coordinate            float64\n",
              "Y Coordinate            float64\n",
              "Year                      int64\n",
              "Updated On               object\n",
              "Latitude                float64\n",
              "Longitude               float64\n",
              "Location                 object\n",
              "dtype: object"
            ]
          },
          "metadata": {
            "tags": []
          },
          "execution_count": 11
        }
      ]
    },
    {
      "cell_type": "code",
      "metadata": {
        "colab": {
          "base_uri": "https://localhost:8080/"
        },
        "id": "8pyz1OLFWHjJ",
        "outputId": "8230f32c-0eb7-4ddd-c167-789f648f97ae"
      },
      "source": [
        "df_chicago.Year.value_counts()"
      ],
      "execution_count": 12,
      "outputs": [
        {
          "output_type": "execute_result",
          "data": {
            "text/plain": [
              "2002    486766\n",
              "2001    485798\n",
              "2003    475963\n",
              "2004    469401\n",
              "2005    453746\n",
              "2006    448145\n",
              "2007    437056\n",
              "2008    427119\n",
              "2009    392784\n",
              "2010    370420\n",
              "2011    351897\n",
              "2012    336164\n",
              "2013    307345\n",
              "2014    275598\n",
              "2016    269538\n",
              "2017    268761\n",
              "2018    268337\n",
              "2015    264509\n",
              "2019    260597\n",
              "2020    210352\n",
              "2021     34812\n",
              "Name: Year, dtype: int64"
            ]
          },
          "metadata": {
            "tags": []
          },
          "execution_count": 12
        }
      ]
    },
    {
      "cell_type": "code",
      "metadata": {
        "colab": {
          "base_uri": "https://localhost:8080/"
        },
        "id": "qAW1uRMKXCl5",
        "outputId": "ee9933ae-86f7-4da7-a764-43787b183c86"
      },
      "source": [
        "df_chicago = df_chicago[df_chicago.Year == 2020]\n",
        "df_chicago.shape"
      ],
      "execution_count": 13,
      "outputs": [
        {
          "output_type": "execute_result",
          "data": {
            "text/plain": [
              "(210352, 22)"
            ]
          },
          "metadata": {
            "tags": []
          },
          "execution_count": 13
        }
      ]
    },
    {
      "cell_type": "code",
      "metadata": {
        "colab": {
          "base_uri": "https://localhost:8080/"
        },
        "id": "11sEImsleEkY",
        "outputId": "40974766-134e-4004-c7e8-b477d41d670c"
      },
      "source": [
        "df_chicago.isna().sum()"
      ],
      "execution_count": 14,
      "outputs": [
        {
          "output_type": "execute_result",
          "data": {
            "text/plain": [
              "ID                         0\n",
              "Case Number                0\n",
              "Date                       0\n",
              "Block                      0\n",
              "IUCR                       0\n",
              "Primary Type               0\n",
              "Description                0\n",
              "Location Description    1174\n",
              "Arrest                     0\n",
              "Domestic                   0\n",
              "Beat                       0\n",
              "District                   0\n",
              "Ward                       9\n",
              "Community Area             1\n",
              "FBI Code                   0\n",
              "X Coordinate            1828\n",
              "Y Coordinate            1828\n",
              "Year                       0\n",
              "Updated On                 0\n",
              "Latitude                1828\n",
              "Longitude               1828\n",
              "Location                1828\n",
              "dtype: int64"
            ]
          },
          "metadata": {
            "tags": []
          },
          "execution_count": 14
        }
      ]
    },
    {
      "cell_type": "code",
      "metadata": {
        "id": "Tv1jH2WyeEXb"
      },
      "source": [
        "df_chicago = df_chicago.dropna()"
      ],
      "execution_count": 15,
      "outputs": []
    },
    {
      "cell_type": "code",
      "metadata": {
        "id": "dhnTFc-1Dm9q"
      },
      "source": [
        "df_chicago = df_chicago[df_chicago[\"Primary Type\"].str.contains('ROBBERY|ARSON|HOMICIDE|ASSAULT')]\n",
        "df_chicago['Primary Type'] = df_chicago['Primary Type'].apply(lambda x: \"ASSAULT\" if \"ASSAULT\" in x else x)"
      ],
      "execution_count": 16,
      "outputs": []
    },
    {
      "cell_type": "code",
      "metadata": {
        "id": "C3Ay4kykgtyv"
      },
      "source": [
        "df_chicago.Date = df_chicago.Date.astype('datetime64')\n",
        "df_chicago[\"month\"] = df_chicago.Date.dt.month"
      ],
      "execution_count": 17,
      "outputs": []
    },
    {
      "cell_type": "code",
      "metadata": {
        "id": "KK2TzCBPhxYO"
      },
      "source": [
        "df_chicago = df_chicago[['Primary Type','Arrest', 'Domestic', 'Beat','District', 'Ward', 'Community Area', 'FBI Code', 'Latitude', 'Longitude', \"month\"]]"
      ],
      "execution_count": 18,
      "outputs": []
    },
    {
      "cell_type": "code",
      "metadata": {
        "colab": {
          "base_uri": "https://localhost:8080/"
        },
        "id": "rGuc0tfhjvl9",
        "outputId": "82c87c85-6f7b-4e53-cd8c-2edaf833a453"
      },
      "source": [
        "df_chicago.dtypes"
      ],
      "execution_count": 19,
      "outputs": [
        {
          "output_type": "execute_result",
          "data": {
            "text/plain": [
              "Primary Type       object\n",
              "Arrest               bool\n",
              "Domestic             bool\n",
              "Beat                int64\n",
              "District          float64\n",
              "Ward              float64\n",
              "Community Area    float64\n",
              "FBI Code           object\n",
              "Latitude          float64\n",
              "Longitude         float64\n",
              "month               int64\n",
              "dtype: object"
            ]
          },
          "metadata": {
            "tags": []
          },
          "execution_count": 19
        }
      ]
    },
    {
      "cell_type": "code",
      "metadata": {
        "id": "I5OEe9f0o9b4"
      },
      "source": [
        "df_chicago[\"District\"] = df_chicago[\"District\"].astype(int)\n",
        "df_chicago[\"Ward\"] = df_chicago[\"Ward\"].astype(int)\n",
        "df_chicago[\"Community Area\"] = df_chicago[\"Community Area\"].astype(int)"
      ],
      "execution_count": 20,
      "outputs": []
    },
    {
      "cell_type": "code",
      "metadata": {
        "id": "--RSM3i4jgM7"
      },
      "source": [
        "label_encoder = preprocessing.LabelEncoder() \n",
        "\n",
        "df_chicago['encode_type']= label_encoder.fit_transform(df_chicago['Primary Type'])\n",
        "df_chicago['encode_Arrest']= label_encoder.fit_transform(df_chicago['Arrest'])\n",
        "df_chicago['encode_Domestic']= label_encoder.fit_transform(df_chicago['Domestic'])\n",
        "df_chicago[\"encode_Beat\"] = label_encoder.fit_transform(df_chicago[\"Beat\"])\n",
        "df_chicago[\"encode_FBI Code\"] = label_encoder.fit_transform(df_chicago[\"FBI Code\"])"
      ],
      "execution_count": 21,
      "outputs": []
    },
    {
      "cell_type": "code",
      "metadata": {
        "colab": {
          "base_uri": "https://localhost:8080/"
        },
        "id": "dM7pj7cIoWyQ",
        "outputId": "26bf7111-c25b-4c6c-b61a-bbbd79e25937"
      },
      "source": [
        "df_chicago.shape"
      ],
      "execution_count": 22,
      "outputs": [
        {
          "output_type": "execute_result",
          "data": {
            "text/plain": [
              "(28587, 16)"
            ]
          },
          "metadata": {
            "tags": []
          },
          "execution_count": 22
        }
      ]
    },
    {
      "cell_type": "code",
      "metadata": {
        "colab": {
          "base_uri": "https://localhost:8080/",
          "height": 221
        },
        "id": "X2pGSU0JDO9v",
        "outputId": "eeaa0ce3-7b3e-43bf-92cf-38db1272e1f3"
      },
      "source": [
        "df_chicago.head()"
      ],
      "execution_count": 23,
      "outputs": [
        {
          "output_type": "execute_result",
          "data": {
            "text/html": [
              "<div>\n",
              "<style scoped>\n",
              "    .dataframe tbody tr th:only-of-type {\n",
              "        vertical-align: middle;\n",
              "    }\n",
              "\n",
              "    .dataframe tbody tr th {\n",
              "        vertical-align: top;\n",
              "    }\n",
              "\n",
              "    .dataframe thead th {\n",
              "        text-align: right;\n",
              "    }\n",
              "</style>\n",
              "<table border=\"1\" class=\"dataframe\">\n",
              "  <thead>\n",
              "    <tr style=\"text-align: right;\">\n",
              "      <th></th>\n",
              "      <th>Primary Type</th>\n",
              "      <th>Arrest</th>\n",
              "      <th>Domestic</th>\n",
              "      <th>Beat</th>\n",
              "      <th>District</th>\n",
              "      <th>Ward</th>\n",
              "      <th>Community Area</th>\n",
              "      <th>FBI Code</th>\n",
              "      <th>Latitude</th>\n",
              "      <th>Longitude</th>\n",
              "      <th>month</th>\n",
              "      <th>encode_type</th>\n",
              "      <th>encode_Arrest</th>\n",
              "      <th>encode_Domestic</th>\n",
              "      <th>encode_Beat</th>\n",
              "      <th>encode_FBI Code</th>\n",
              "    </tr>\n",
              "  </thead>\n",
              "  <tbody>\n",
              "    <tr>\n",
              "      <th>813</th>\n",
              "      <td>ASSAULT</td>\n",
              "      <td>False</td>\n",
              "      <td>False</td>\n",
              "      <td>2525</td>\n",
              "      <td>25</td>\n",
              "      <td>35</td>\n",
              "      <td>20</td>\n",
              "      <td>08A</td>\n",
              "      <td>41.923369</td>\n",
              "      <td>-87.731634</td>\n",
              "      <td>3</td>\n",
              "      <td>1</td>\n",
              "      <td>0</td>\n",
              "      <td>0</td>\n",
              "      <td>268</td>\n",
              "      <td>5</td>\n",
              "    </tr>\n",
              "    <tr>\n",
              "      <th>3059</th>\n",
              "      <td>ROBBERY</td>\n",
              "      <td>False</td>\n",
              "      <td>False</td>\n",
              "      <td>1021</td>\n",
              "      <td>10</td>\n",
              "      <td>24</td>\n",
              "      <td>29</td>\n",
              "      <td>03</td>\n",
              "      <td>41.860148</td>\n",
              "      <td>-87.712804</td>\n",
              "      <td>3</td>\n",
              "      <td>3</td>\n",
              "      <td>0</td>\n",
              "      <td>0</td>\n",
              "      <td>120</td>\n",
              "      <td>3</td>\n",
              "    </tr>\n",
              "    <tr>\n",
              "      <th>13394</th>\n",
              "      <td>ASSAULT</td>\n",
              "      <td>False</td>\n",
              "      <td>True</td>\n",
              "      <td>835</td>\n",
              "      <td>8</td>\n",
              "      <td>18</td>\n",
              "      <td>70</td>\n",
              "      <td>04A</td>\n",
              "      <td>41.750972</td>\n",
              "      <td>-87.682871</td>\n",
              "      <td>3</td>\n",
              "      <td>1</td>\n",
              "      <td>0</td>\n",
              "      <td>1</td>\n",
              "      <td>100</td>\n",
              "      <td>4</td>\n",
              "    </tr>\n",
              "    <tr>\n",
              "      <th>64851</th>\n",
              "      <td>ASSAULT</td>\n",
              "      <td>False</td>\n",
              "      <td>False</td>\n",
              "      <td>2423</td>\n",
              "      <td>24</td>\n",
              "      <td>49</td>\n",
              "      <td>1</td>\n",
              "      <td>08A</td>\n",
              "      <td>42.009077</td>\n",
              "      <td>-87.668581</td>\n",
              "      <td>3</td>\n",
              "      <td>1</td>\n",
              "      <td>0</td>\n",
              "      <td>0</td>\n",
              "      <td>254</td>\n",
              "      <td>5</td>\n",
              "    </tr>\n",
              "    <tr>\n",
              "      <th>67424</th>\n",
              "      <td>ROBBERY</td>\n",
              "      <td>False</td>\n",
              "      <td>False</td>\n",
              "      <td>723</td>\n",
              "      <td>7</td>\n",
              "      <td>6</td>\n",
              "      <td>68</td>\n",
              "      <td>03</td>\n",
              "      <td>41.770145</td>\n",
              "      <td>-87.648175</td>\n",
              "      <td>12</td>\n",
              "      <td>3</td>\n",
              "      <td>0</td>\n",
              "      <td>0</td>\n",
              "      <td>77</td>\n",
              "      <td>3</td>\n",
              "    </tr>\n",
              "  </tbody>\n",
              "</table>\n",
              "</div>"
            ],
            "text/plain": [
              "      Primary Type  Arrest  ...  encode_Beat  encode_FBI Code\n",
              "813        ASSAULT   False  ...          268                5\n",
              "3059       ROBBERY   False  ...          120                3\n",
              "13394      ASSAULT   False  ...          100                4\n",
              "64851      ASSAULT   False  ...          254                5\n",
              "67424      ROBBERY   False  ...           77                3\n",
              "\n",
              "[5 rows x 16 columns]"
            ]
          },
          "metadata": {
            "tags": []
          },
          "execution_count": 23
        }
      ]
    },
    {
      "cell_type": "markdown",
      "metadata": {
        "id": "bezBTRstWBDK"
      },
      "source": [
        "#### New York City"
      ]
    },
    {
      "cell_type": "code",
      "metadata": {
        "colab": {
          "base_uri": "https://localhost:8080/",
          "height": 298
        },
        "id": "HKMHPzx_Wd2T",
        "outputId": "afbcb572-b05d-4c48-bdb1-ff199554f189"
      },
      "source": [
        "df_NY.head(3)"
      ],
      "execution_count": 24,
      "outputs": [
        {
          "output_type": "execute_result",
          "data": {
            "text/html": [
              "<div>\n",
              "<style scoped>\n",
              "    .dataframe tbody tr th:only-of-type {\n",
              "        vertical-align: middle;\n",
              "    }\n",
              "\n",
              "    .dataframe tbody tr th {\n",
              "        vertical-align: top;\n",
              "    }\n",
              "\n",
              "    .dataframe thead th {\n",
              "        text-align: right;\n",
              "    }\n",
              "</style>\n",
              "<table border=\"1\" class=\"dataframe\">\n",
              "  <thead>\n",
              "    <tr style=\"text-align: right;\">\n",
              "      <th></th>\n",
              "      <th>CMPLNT_NUM</th>\n",
              "      <th>ADDR_PCT_CD</th>\n",
              "      <th>BORO_NM</th>\n",
              "      <th>CMPLNT_FR_DT</th>\n",
              "      <th>CMPLNT_FR_TM</th>\n",
              "      <th>CMPLNT_TO_DT</th>\n",
              "      <th>CMPLNT_TO_TM</th>\n",
              "      <th>CRM_ATPT_CPTD_CD</th>\n",
              "      <th>HADEVELOPT</th>\n",
              "      <th>HOUSING_PSA</th>\n",
              "      <th>JURISDICTION_CODE</th>\n",
              "      <th>JURIS_DESC</th>\n",
              "      <th>KY_CD</th>\n",
              "      <th>LAW_CAT_CD</th>\n",
              "      <th>LOC_OF_OCCUR_DESC</th>\n",
              "      <th>OFNS_DESC</th>\n",
              "      <th>PARKS_NM</th>\n",
              "      <th>PATROL_BORO</th>\n",
              "      <th>PD_CD</th>\n",
              "      <th>PD_DESC</th>\n",
              "      <th>PREM_TYP_DESC</th>\n",
              "      <th>RPT_DT</th>\n",
              "      <th>STATION_NAME</th>\n",
              "      <th>SUSP_AGE_GROUP</th>\n",
              "      <th>SUSP_RACE</th>\n",
              "      <th>SUSP_SEX</th>\n",
              "      <th>TRANSIT_DISTRICT</th>\n",
              "      <th>VIC_AGE_GROUP</th>\n",
              "      <th>VIC_RACE</th>\n",
              "      <th>VIC_SEX</th>\n",
              "      <th>X_COORD_CD</th>\n",
              "      <th>Y_COORD_CD</th>\n",
              "      <th>Latitude</th>\n",
              "      <th>Longitude</th>\n",
              "      <th>Lat_Lon</th>\n",
              "      <th>New Georeferenced Column</th>\n",
              "    </tr>\n",
              "  </thead>\n",
              "  <tbody>\n",
              "    <tr>\n",
              "      <th>0</th>\n",
              "      <td>885776788</td>\n",
              "      <td>66</td>\n",
              "      <td>NaN</td>\n",
              "      <td>12/23/2020</td>\n",
              "      <td>19:50:00</td>\n",
              "      <td>NaN</td>\n",
              "      <td>NaN</td>\n",
              "      <td>COMPLETED</td>\n",
              "      <td>NaN</td>\n",
              "      <td>NaN</td>\n",
              "      <td>NaN</td>\n",
              "      <td>N.Y. POLICE DEPT</td>\n",
              "      <td>101</td>\n",
              "      <td>FELONY</td>\n",
              "      <td>OUTSIDE</td>\n",
              "      <td>MURDER &amp; NON-NEGL. MANSLAUGHTER</td>\n",
              "      <td>NaN</td>\n",
              "      <td>NaN</td>\n",
              "      <td>NaN</td>\n",
              "      <td>NaN</td>\n",
              "      <td>NaN</td>\n",
              "      <td>12/23/2020</td>\n",
              "      <td>NaN</td>\n",
              "      <td>NaN</td>\n",
              "      <td>NaN</td>\n",
              "      <td>NaN</td>\n",
              "      <td>NaN</td>\n",
              "      <td>18-24</td>\n",
              "      <td>BLACK</td>\n",
              "      <td>M</td>\n",
              "      <td>986633</td>\n",
              "      <td>167258</td>\n",
              "      <td>40.625769</td>\n",
              "      <td>-73.991417</td>\n",
              "      <td>(40.62576896100006, -73.99141682199996)</td>\n",
              "      <td>POINT (-73.99141682199996 40.62576896100006)</td>\n",
              "    </tr>\n",
              "    <tr>\n",
              "      <th>1</th>\n",
              "      <td>350637195</td>\n",
              "      <td>77</td>\n",
              "      <td>NaN</td>\n",
              "      <td>12/21/2020</td>\n",
              "      <td>01:10:00</td>\n",
              "      <td>NaN</td>\n",
              "      <td>NaN</td>\n",
              "      <td>COMPLETED</td>\n",
              "      <td>NaN</td>\n",
              "      <td>NaN</td>\n",
              "      <td>NaN</td>\n",
              "      <td>N.Y. POLICE DEPT</td>\n",
              "      <td>101</td>\n",
              "      <td>FELONY</td>\n",
              "      <td>INSIDE</td>\n",
              "      <td>MURDER &amp; NON-NEGL. MANSLAUGHTER</td>\n",
              "      <td>NaN</td>\n",
              "      <td>NaN</td>\n",
              "      <td>NaN</td>\n",
              "      <td>NaN</td>\n",
              "      <td>NaN</td>\n",
              "      <td>12/21/2020</td>\n",
              "      <td>NaN</td>\n",
              "      <td>NaN</td>\n",
              "      <td>NaN</td>\n",
              "      <td>NaN</td>\n",
              "      <td>NaN</td>\n",
              "      <td>25-44</td>\n",
              "      <td>BLACK</td>\n",
              "      <td>M</td>\n",
              "      <td>1003606</td>\n",
              "      <td>185050</td>\n",
              "      <td>40.674583</td>\n",
              "      <td>-73.930222</td>\n",
              "      <td>(40.67458330800008, -73.93022154099998)</td>\n",
              "      <td>POINT (-73.93022154099998 40.67458330800008)</td>\n",
              "    </tr>\n",
              "    <tr>\n",
              "      <th>2</th>\n",
              "      <td>347843168</td>\n",
              "      <td>43</td>\n",
              "      <td>BRONX</td>\n",
              "      <td>11/22/2020</td>\n",
              "      <td>22:00:00</td>\n",
              "      <td>NaN</td>\n",
              "      <td>NaN</td>\n",
              "      <td>COMPLETED</td>\n",
              "      <td>NaN</td>\n",
              "      <td>NaN</td>\n",
              "      <td>0.0</td>\n",
              "      <td>N.Y. POLICE DEPT</td>\n",
              "      <td>104</td>\n",
              "      <td>FELONY</td>\n",
              "      <td>NaN</td>\n",
              "      <td>RAPE</td>\n",
              "      <td>NaN</td>\n",
              "      <td>PATROL BORO BRONX</td>\n",
              "      <td>157.0</td>\n",
              "      <td>RAPE 1</td>\n",
              "      <td>STREET</td>\n",
              "      <td>11/23/2020</td>\n",
              "      <td>NaN</td>\n",
              "      <td>UNKNOWN</td>\n",
              "      <td>UNKNOWN</td>\n",
              "      <td>U</td>\n",
              "      <td>NaN</td>\n",
              "      <td>25-44</td>\n",
              "      <td>BLACK</td>\n",
              "      <td>F</td>\n",
              "      <td>1020316</td>\n",
              "      <td>239179</td>\n",
              "      <td>40.823101</td>\n",
              "      <td>-73.869690</td>\n",
              "      <td>(40.82310129900002, -73.86969046099993)</td>\n",
              "      <td>POINT (-73.86969046099993 40.82310129900002)</td>\n",
              "    </tr>\n",
              "  </tbody>\n",
              "</table>\n",
              "</div>"
            ],
            "text/plain": [
              "   CMPLNT_NUM  ...                      New Georeferenced Column\n",
              "0   885776788  ...  POINT (-73.99141682199996 40.62576896100006)\n",
              "1   350637195  ...  POINT (-73.93022154099998 40.67458330800008)\n",
              "2   347843168  ...  POINT (-73.86969046099993 40.82310129900002)\n",
              "\n",
              "[3 rows x 36 columns]"
            ]
          },
          "metadata": {
            "tags": []
          },
          "execution_count": 24
        }
      ]
    },
    {
      "cell_type": "code",
      "metadata": {
        "id": "YqYFQx2Oqlqn"
      },
      "source": [
        "df_NY.CMPLNT_FR_DT =  df_NY.CMPLNT_FR_DT.apply(lambda x: datetime.datetime.strptime(x, '%m/%d/%Y').date())\n",
        "df_NY[\"year\"] = df_NY.CMPLNT_FR_DT.apply(lambda x: x.year)\n",
        "df_NY[\"month\"] = df_NY.CMPLNT_FR_DT.apply(lambda x: x.month)"
      ],
      "execution_count": 25,
      "outputs": []
    },
    {
      "cell_type": "code",
      "metadata": {
        "colab": {
          "base_uri": "https://localhost:8080/"
        },
        "id": "NhhY8XZjrtsL",
        "outputId": "866601a7-24ca-49f3-f6b0-1b4b755938a8"
      },
      "source": [
        "df_NY = df_NY[df_NY[\"year\"] == 2020]\n",
        "df_NY.shape"
      ],
      "execution_count": 26,
      "outputs": [
        {
          "output_type": "execute_result",
          "data": {
            "text/plain": [
              "(404892, 38)"
            ]
          },
          "metadata": {
            "tags": []
          },
          "execution_count": 26
        }
      ]
    },
    {
      "cell_type": "code",
      "metadata": {
        "colab": {
          "base_uri": "https://localhost:8080/"
        },
        "id": "cQq9o875XMUJ",
        "outputId": "015853b8-4730-4b4a-d4a0-ec1ed59f7a30"
      },
      "source": [
        "df_NY.isna().sum()"
      ],
      "execution_count": 27,
      "outputs": [
        {
          "output_type": "execute_result",
          "data": {
            "text/plain": [
              "CMPLNT_NUM                       0\n",
              "ADDR_PCT_CD                      0\n",
              "BORO_NM                        463\n",
              "CMPLNT_FR_DT                     0\n",
              "CMPLNT_FR_TM                     0\n",
              "CMPLNT_TO_DT                 37978\n",
              "CMPLNT_TO_TM                 37859\n",
              "CRM_ATPT_CPTD_CD                 0\n",
              "HADEVELOPT                  403351\n",
              "HOUSING_PSA                 374475\n",
              "JURISDICTION_CODE              441\n",
              "JURIS_DESC                       0\n",
              "KY_CD                            0\n",
              "LAW_CAT_CD                       0\n",
              "LOC_OF_OCCUR_DESC            65281\n",
              "OFNS_DESC                        5\n",
              "PARKS_NM                    402239\n",
              "PATROL_BORO                    441\n",
              "PD_CD                          441\n",
              "PD_DESC                        441\n",
              "PREM_TYP_DESC                 1104\n",
              "RPT_DT                           0\n",
              "STATION_NAME                397933\n",
              "SUSP_AGE_GROUP               92098\n",
              "SUSP_RACE                    92098\n",
              "SUSP_SEX                     92098\n",
              "TRANSIT_DISTRICT            397933\n",
              "VIC_AGE_GROUP                    1\n",
              "VIC_RACE                         1\n",
              "VIC_SEX                          1\n",
              "X_COORD_CD                       0\n",
              "Y_COORD_CD                       0\n",
              "Latitude                         0\n",
              "Longitude                        0\n",
              "Lat_Lon                          0\n",
              "New Georeferenced Column         0\n",
              "year                             0\n",
              "month                            0\n",
              "dtype: int64"
            ]
          },
          "metadata": {
            "tags": []
          },
          "execution_count": 27
        }
      ]
    },
    {
      "cell_type": "code",
      "metadata": {
        "colab": {
          "base_uri": "https://localhost:8080/"
        },
        "id": "EeG34TdXsWjQ",
        "outputId": "0c4ebbf4-058b-43a1-ba69-8966f9188212"
      },
      "source": [
        "df_NY.columns"
      ],
      "execution_count": 28,
      "outputs": [
        {
          "output_type": "execute_result",
          "data": {
            "text/plain": [
              "Index(['CMPLNT_NUM', 'ADDR_PCT_CD', 'BORO_NM', 'CMPLNT_FR_DT', 'CMPLNT_FR_TM',\n",
              "       'CMPLNT_TO_DT', 'CMPLNT_TO_TM', 'CRM_ATPT_CPTD_CD', 'HADEVELOPT',\n",
              "       'HOUSING_PSA', 'JURISDICTION_CODE', 'JURIS_DESC', 'KY_CD', 'LAW_CAT_CD',\n",
              "       'LOC_OF_OCCUR_DESC', 'OFNS_DESC', 'PARKS_NM', 'PATROL_BORO', 'PD_CD',\n",
              "       'PD_DESC', 'PREM_TYP_DESC', 'RPT_DT', 'STATION_NAME', 'SUSP_AGE_GROUP',\n",
              "       'SUSP_RACE', 'SUSP_SEX', 'TRANSIT_DISTRICT', 'VIC_AGE_GROUP',\n",
              "       'VIC_RACE', 'VIC_SEX', 'X_COORD_CD', 'Y_COORD_CD', 'Latitude',\n",
              "       'Longitude', 'Lat_Lon', 'New Georeferenced Column', 'year', 'month'],\n",
              "      dtype='object')"
            ]
          },
          "metadata": {
            "tags": []
          },
          "execution_count": 28
        }
      ]
    },
    {
      "cell_type": "code",
      "metadata": {
        "colab": {
          "base_uri": "https://localhost:8080/"
        },
        "id": "9WnNT63AsYig",
        "outputId": "3c48a82a-9fc5-4675-a403-e47cbb07b22e"
      },
      "source": [
        "df_NY = df_NY[['ADDR_PCT_CD', 'BORO_NM', 'JURISDICTION_CODE', \"KY_CD\", \"LAW_CAT_CD\", 'OFNS_DESC', 'PD_CD', 'SUSP_AGE_GROUP',\n",
        "                'SUSP_RACE', 'SUSP_SEX', 'VIC_AGE_GROUP', 'VIC_RACE', 'VIC_SEX', 'Latitude', 'Longitude', 'year', 'month']]\n",
        "df_NY = df_NY.dropna()\n",
        "df_NY = df_NY[df_NY[\"OFNS_DESC\"].str.contains('ROBBERY|ARSON|HOMICIDE|ASSAULT')]\n",
        "df_NY.shape"
      ],
      "execution_count": 29,
      "outputs": [
        {
          "output_type": "execute_result",
          "data": {
            "text/plain": [
              "(72489, 17)"
            ]
          },
          "metadata": {
            "tags": []
          },
          "execution_count": 29
        }
      ]
    },
    {
      "cell_type": "code",
      "metadata": {
        "colab": {
          "base_uri": "https://localhost:8080/"
        },
        "id": "j2Ts-Huw2uqk",
        "outputId": "b85f5de2-a23d-4536-f7f2-d6da1e34c55d"
      },
      "source": [
        "df_NY[\"OFNS_DESC\"].value_counts()"
      ],
      "execution_count": 30,
      "outputs": [
        {
          "output_type": "execute_result",
          "data": {
            "text/plain": [
              "ASSAULT 3 & RELATED OFFENSES      40599\n",
              "FELONY ASSAULT                    18906\n",
              "ROBBERY                           12600\n",
              "ARSON                               372\n",
              "HOMICIDE-NEGLIGENT,UNCLASSIFIE       12\n",
              "Name: OFNS_DESC, dtype: int64"
            ]
          },
          "metadata": {
            "tags": []
          },
          "execution_count": 30
        }
      ]
    },
    {
      "cell_type": "code",
      "metadata": {
        "id": "MZdqgj8kEqmM"
      },
      "source": [
        "df_NY[\"Primary Type\"] = df_NY[\"OFNS_DESC\"].apply(lambda x: \"ASSAULT\" if \"ASSAULT\" in x else x)\n",
        "df_NY[\"Primary Type\"] = df_NY[\"Primary Type\"].apply(lambda x: \"HOMICIDE\" if \"HOMICIDE\" in x else x)"
      ],
      "execution_count": 31,
      "outputs": []
    },
    {
      "cell_type": "code",
      "metadata": {
        "id": "diYadxow0bFo"
      },
      "source": [
        "df_NY[\"JURISDICTION_CODE\"] = df_NY[\"JURISDICTION_CODE\"].astype(int)\n",
        "df_NY[\"PD_CD\"] = df_NY[\"PD_CD\"].astype(int)"
      ],
      "execution_count": 32,
      "outputs": []
    },
    {
      "cell_type": "code",
      "metadata": {
        "id": "7hoC4Daizj7U"
      },
      "source": [
        "label_encoder = preprocessing.LabelEncoder() \n",
        "\n",
        "df_NY['encode_LAW_CAT_CD']= label_encoder.fit_transform(df_NY['LAW_CAT_CD'])\n",
        "df_NY['encode_type']= label_encoder.fit_transform(df_NY['Primary Type'])\n",
        "df_NY[\"encode_SUSP_AGE_GROUP\"] = label_encoder.fit_transform(df_NY[\"SUSP_AGE_GROUP\"])\n",
        "df_NY[\"encode_SUSP_RACE\"] = label_encoder.fit_transform(df_NY[\"SUSP_RACE\"])\n",
        "df_NY['encode_SUSP_SEX']= label_encoder.fit_transform(df_NY['SUSP_SEX'])\n",
        "df_NY[\"encode_VIC_AGE_GROUP\"] = label_encoder.fit_transform(df_NY[\"VIC_AGE_GROUP\"])\n",
        "df_NY[\"encode_VIC_RACE\"] = label_encoder.fit_transform(df_NY[\"VIC_RACE\"])"
      ],
      "execution_count": 33,
      "outputs": []
    },
    {
      "cell_type": "code",
      "metadata": {
        "colab": {
          "base_uri": "https://localhost:8080/",
          "height": 343
        },
        "id": "pqHbfQEXr0lo",
        "outputId": "7da948a7-e31c-43c8-bfb2-8dc8d2a7dc9d"
      },
      "source": [
        "df_NY.head()"
      ],
      "execution_count": 34,
      "outputs": [
        {
          "output_type": "execute_result",
          "data": {
            "text/html": [
              "<div>\n",
              "<style scoped>\n",
              "    .dataframe tbody tr th:only-of-type {\n",
              "        vertical-align: middle;\n",
              "    }\n",
              "\n",
              "    .dataframe tbody tr th {\n",
              "        vertical-align: top;\n",
              "    }\n",
              "\n",
              "    .dataframe thead th {\n",
              "        text-align: right;\n",
              "    }\n",
              "</style>\n",
              "<table border=\"1\" class=\"dataframe\">\n",
              "  <thead>\n",
              "    <tr style=\"text-align: right;\">\n",
              "      <th></th>\n",
              "      <th>ADDR_PCT_CD</th>\n",
              "      <th>BORO_NM</th>\n",
              "      <th>JURISDICTION_CODE</th>\n",
              "      <th>KY_CD</th>\n",
              "      <th>LAW_CAT_CD</th>\n",
              "      <th>OFNS_DESC</th>\n",
              "      <th>PD_CD</th>\n",
              "      <th>SUSP_AGE_GROUP</th>\n",
              "      <th>SUSP_RACE</th>\n",
              "      <th>SUSP_SEX</th>\n",
              "      <th>VIC_AGE_GROUP</th>\n",
              "      <th>VIC_RACE</th>\n",
              "      <th>VIC_SEX</th>\n",
              "      <th>Latitude</th>\n",
              "      <th>Longitude</th>\n",
              "      <th>year</th>\n",
              "      <th>month</th>\n",
              "      <th>Primary Type</th>\n",
              "      <th>encode_LAW_CAT_CD</th>\n",
              "      <th>encode_type</th>\n",
              "      <th>encode_SUSP_AGE_GROUP</th>\n",
              "      <th>encode_SUSP_RACE</th>\n",
              "      <th>encode_SUSP_SEX</th>\n",
              "      <th>encode_VIC_AGE_GROUP</th>\n",
              "      <th>encode_VIC_RACE</th>\n",
              "    </tr>\n",
              "  </thead>\n",
              "  <tbody>\n",
              "    <tr>\n",
              "      <th>86</th>\n",
              "      <td>75</td>\n",
              "      <td>BROOKLYN</td>\n",
              "      <td>0</td>\n",
              "      <td>344</td>\n",
              "      <td>MISDEMEANOR</td>\n",
              "      <td>ASSAULT 3 &amp; RELATED OFFENSES</td>\n",
              "      <td>113</td>\n",
              "      <td>UNKNOWN</td>\n",
              "      <td>BLACK HISPANIC</td>\n",
              "      <td>M</td>\n",
              "      <td>65+</td>\n",
              "      <td>BLACK</td>\n",
              "      <td>M</td>\n",
              "      <td>40.673761</td>\n",
              "      <td>-73.878804</td>\n",
              "      <td>2020</td>\n",
              "      <td>12</td>\n",
              "      <td>ASSAULT</td>\n",
              "      <td>1</td>\n",
              "      <td>1</td>\n",
              "      <td>7</td>\n",
              "      <td>3</td>\n",
              "      <td>1</td>\n",
              "      <td>8</td>\n",
              "      <td>2</td>\n",
              "    </tr>\n",
              "    <tr>\n",
              "      <th>91</th>\n",
              "      <td>43</td>\n",
              "      <td>BRONX</td>\n",
              "      <td>2</td>\n",
              "      <td>105</td>\n",
              "      <td>FELONY</td>\n",
              "      <td>ROBBERY</td>\n",
              "      <td>388</td>\n",
              "      <td>25-44</td>\n",
              "      <td>BLACK</td>\n",
              "      <td>M</td>\n",
              "      <td>25-44</td>\n",
              "      <td>BLACK</td>\n",
              "      <td>F</td>\n",
              "      <td>40.826163</td>\n",
              "      <td>-73.871151</td>\n",
              "      <td>2020</td>\n",
              "      <td>12</td>\n",
              "      <td>ROBBERY</td>\n",
              "      <td>0</td>\n",
              "      <td>3</td>\n",
              "      <td>3</td>\n",
              "      <td>2</td>\n",
              "      <td>1</td>\n",
              "      <td>6</td>\n",
              "      <td>2</td>\n",
              "    </tr>\n",
              "    <tr>\n",
              "      <th>108</th>\n",
              "      <td>114</td>\n",
              "      <td>QUEENS</td>\n",
              "      <td>0</td>\n",
              "      <td>105</td>\n",
              "      <td>FELONY</td>\n",
              "      <td>ROBBERY</td>\n",
              "      <td>396</td>\n",
              "      <td>25-44</td>\n",
              "      <td>BLACK</td>\n",
              "      <td>M</td>\n",
              "      <td>UNKNOWN</td>\n",
              "      <td>UNKNOWN</td>\n",
              "      <td>D</td>\n",
              "      <td>40.753159</td>\n",
              "      <td>-73.911623</td>\n",
              "      <td>2020</td>\n",
              "      <td>12</td>\n",
              "      <td>ROBBERY</td>\n",
              "      <td>0</td>\n",
              "      <td>3</td>\n",
              "      <td>3</td>\n",
              "      <td>2</td>\n",
              "      <td>1</td>\n",
              "      <td>11</td>\n",
              "      <td>4</td>\n",
              "    </tr>\n",
              "    <tr>\n",
              "      <th>111</th>\n",
              "      <td>23</td>\n",
              "      <td>MANHATTAN</td>\n",
              "      <td>0</td>\n",
              "      <td>344</td>\n",
              "      <td>MISDEMEANOR</td>\n",
              "      <td>ASSAULT 3 &amp; RELATED OFFENSES</td>\n",
              "      <td>101</td>\n",
              "      <td>UNKNOWN</td>\n",
              "      <td>WHITE HISPANIC</td>\n",
              "      <td>U</td>\n",
              "      <td>25-44</td>\n",
              "      <td>WHITE HISPANIC</td>\n",
              "      <td>F</td>\n",
              "      <td>40.792649</td>\n",
              "      <td>-73.951268</td>\n",
              "      <td>2020</td>\n",
              "      <td>12</td>\n",
              "      <td>ASSAULT</td>\n",
              "      <td>1</td>\n",
              "      <td>1</td>\n",
              "      <td>7</td>\n",
              "      <td>6</td>\n",
              "      <td>2</td>\n",
              "      <td>6</td>\n",
              "      <td>6</td>\n",
              "    </tr>\n",
              "    <tr>\n",
              "      <th>115</th>\n",
              "      <td>76</td>\n",
              "      <td>BROOKLYN</td>\n",
              "      <td>0</td>\n",
              "      <td>114</td>\n",
              "      <td>FELONY</td>\n",
              "      <td>ARSON</td>\n",
              "      <td>263</td>\n",
              "      <td>UNKNOWN</td>\n",
              "      <td>UNKNOWN</td>\n",
              "      <td>U</td>\n",
              "      <td>UNKNOWN</td>\n",
              "      <td>UNKNOWN</td>\n",
              "      <td>E</td>\n",
              "      <td>40.689654</td>\n",
              "      <td>-73.997643</td>\n",
              "      <td>2020</td>\n",
              "      <td>12</td>\n",
              "      <td>ARSON</td>\n",
              "      <td>0</td>\n",
              "      <td>0</td>\n",
              "      <td>7</td>\n",
              "      <td>4</td>\n",
              "      <td>2</td>\n",
              "      <td>11</td>\n",
              "      <td>4</td>\n",
              "    </tr>\n",
              "  </tbody>\n",
              "</table>\n",
              "</div>"
            ],
            "text/plain": [
              "     ADDR_PCT_CD    BORO_NM  ...  encode_VIC_AGE_GROUP  encode_VIC_RACE\n",
              "86            75   BROOKLYN  ...                     8                2\n",
              "91            43      BRONX  ...                     6                2\n",
              "108          114     QUEENS  ...                    11                4\n",
              "111           23  MANHATTAN  ...                     6                6\n",
              "115           76   BROOKLYN  ...                    11                4\n",
              "\n",
              "[5 rows x 25 columns]"
            ]
          },
          "metadata": {
            "tags": []
          },
          "execution_count": 34
        }
      ]
    },
    {
      "cell_type": "markdown",
      "metadata": {
        "id": "chRx08-72pBd"
      },
      "source": [
        "## build models"
      ]
    },
    {
      "cell_type": "markdown",
      "metadata": {
        "id": "lfRgOVf-GntX"
      },
      "source": [
        "####Visualization"
      ]
    },
    {
      "cell_type": "code",
      "metadata": {
        "colab": {
          "base_uri": "https://localhost:8080/",
          "height": 295
        },
        "id": "DRBB3KDyHMDa",
        "outputId": "0d9819c8-1ee3-4839-ca11-752e7d7707a8"
      },
      "source": [
        "type_chicago = df_chicago[\"month\"].groupby(df_chicago[\"Primary Type\"]).count().sort_values(ascending=False)\n",
        "\n",
        "plt.figure(figsize = (5, 4))\n",
        "ax = sns.barplot(x= type_chicago.index, y= type_chicago.values)\n",
        "ax.set_title(\"the distrubution of 4 crime types in Chicago\")\n",
        "for i, p in enumerate(ax.patches):\n",
        "    height = p.get_height()\n",
        "    ax.text(p.get_x()+p.get_width()/2., height + 1, type_chicago.values[i],ha=\"center\")"
      ],
      "execution_count": 35,
      "outputs": [
        {
          "output_type": "display_data",
          "data": {
            "image/png": "[encoded data removed]",
            "text/plain": [
              "<Figure size 360x288 with 1 Axes>"
            ]
          },
          "metadata": {
            "tags": [],
            "needs_background": "light"
          }
        }
      ]
    },
    {
      "cell_type": "code",
      "metadata": {
        "colab": {
          "base_uri": "https://localhost:8080/",
          "height": 295
        },
        "id": "7sDVbJAIGpf7",
        "outputId": "6a00d3fa-95d1-4047-b518-08df25ee2285"
      },
      "source": [
        "type_NY = df_NY[\"month\"].groupby(df_NY[\"Primary Type\"]).count().sort_values(ascending=False)\n",
        "\n",
        "plt.figure(figsize = (5, 4))\n",
        "ax = sns.barplot(x= type_NY.index, y= type_NY.values)\n",
        "ax.set_title(\"the distrubution of 4 crime types in New York\")\n",
        "for i, p in enumerate(ax.patches):\n",
        "    height = p.get_height()\n",
        "    ax.text(p.get_x()+p.get_width()/2., height + 30, type_NY.values[i],ha=\"center\")"
      ],
      "execution_count": 36,
      "outputs": [
        {
          "output_type": "display_data",
          "data": {
            "image/png": "[encoded data removed]",
            "text/plain": [
              "<Figure size 360x288 with 1 Axes>"
            ]
          },
          "metadata": {
            "tags": [],
            "needs_background": "light"
          }
        }
      ]
    },
    {
      "cell_type": "code",
      "metadata": {
        "colab": {
          "base_uri": "https://localhost:8080/",
          "height": 225
        },
        "id": "R8BED0g1Oz5B",
        "outputId": "8f9afb2b-1302-4901-afec-01e23d3686ec"
      },
      "source": [
        "g = sns.FacetGrid(df_chicago, col =\"Primary Type\")\n",
        "g.map(sns.histplot, \"month\")\n",
        "plt.show()"
      ],
      "execution_count": 37,
      "outputs": [
        {
          "output_type": "display_data",
          "data": {
            "image/png": "[encoded data removed]",
            "text/plain": [
              "<Figure size 864x216 with 4 Axes>"
            ]
          },
          "metadata": {
            "tags": [],
            "needs_background": "light"
          }
        }
      ]
    },
    {
      "cell_type": "code",
      "metadata": {
        "colab": {
          "base_uri": "https://localhost:8080/",
          "height": 225
        },
        "id": "Lm1wNu_0N4mp",
        "outputId": "975283e4-ad7a-48b7-bc8d-1e29f7c9aab6"
      },
      "source": [
        "g = sns.FacetGrid(df_NY, col =\"Primary Type\")\n",
        "g.map(sns.histplot, \"month\")\n",
        "plt.show()"
      ],
      "execution_count": 38,
      "outputs": [
        {
          "output_type": "display_data",
          "data": {
            "image/png": "[encoded data removed]",
            "text/plain": [
              "<Figure size 864x216 with 4 Axes>"
            ]
          },
          "metadata": {
            "tags": [],
            "needs_background": "light"
          }
        }
      ]
    },
    {
      "cell_type": "markdown",
      "metadata": {
        "id": "RJ08uNTlO9Kh"
      },
      "source": [
        "#### Use several features to predict the types of crimes\n",
        "- Chicago"
      ]
    },
    {
      "cell_type": "code",
      "metadata": {
        "colab": {
          "base_uri": "https://localhost:8080/"
        },
        "id": "C9nlXClHO7x_",
        "outputId": "97c467f5-c9c4-4af7-bea8-848f202787c8"
      },
      "source": [
        "#Creating X and y\n",
        "X = df_chicago[['Latitude', 'Longitude', 'encode_Arrest', 'encode_Domestic', 'encode_Beat', 'encode_FBI Code']]\n",
        "y = df_chicago[['encode_type']]\n",
        "\n",
        "#Creating training and testing set\n",
        "X_train, X_test, y_train, y_test = train_test_split(X, y, test_size=0.3, random_state=42)\n",
        "\n",
        "\n",
        "#Creating Logisitic Regression model\n",
        "model = LogisticRegression()\n",
        "model.fit(X_train,y_train)\n",
        "\n",
        "#Predicting on Test set\n",
        "predictions = model.predict(X_test)\n",
        "\n",
        "print(accuracy_score(y_test,predictions))\n",
        "print(confusion_matrix(y_test,predictions))\n",
        "print(classification_report(y_test, predictions))"
      ],
      "execution_count": 39,
      "outputs": [
        {
          "output_type": "stream",
          "text": [
            "0.9235163810190044\n",
            "[[   0  175    0    0]\n",
            " [   0 5588    0  271]\n",
            " [   0    0  223    1]\n",
            " [   0  209    0 2110]]\n",
            "              precision    recall  f1-score   support\n",
            "\n",
            "           0       0.00      0.00      0.00       175\n",
            "           1       0.94      0.95      0.94      5859\n",
            "           2       1.00      1.00      1.00       224\n",
            "           3       0.89      0.91      0.90      2319\n",
            "\n",
            "    accuracy                           0.92      8577\n",
            "   macro avg       0.71      0.71      0.71      8577\n",
            "weighted avg       0.90      0.92      0.91      8577\n",
            "\n"
          ],
          "name": "stdout"
        }
      ]
    },
    {
      "cell_type": "markdown",
      "metadata": {
        "id": "sPdv8AXcPei0"
      },
      "source": [
        "- New York"
      ]
    },
    {
      "cell_type": "code",
      "metadata": {
        "colab": {
          "base_uri": "https://localhost:8080/"
        },
        "id": "9CkVrZPSQH-G",
        "outputId": "174a223c-7d92-4a20-8c4d-9bb6e82e7da3"
      },
      "source": [
        "#Creating X and y\n",
        "X = df_NY[['month', 'Latitude', 'Longitude', 'encode_LAW_CAT_CD', 'encode_SUSP_AGE_GROUP', \n",
        "           'encode_SUSP_RACE', 'encode_SUSP_SEX', 'encode_VIC_AGE_GROUP', 'encode_VIC_RACE']]\n",
        "y = df_NY[['encode_type']]\n",
        "\n",
        "#Creating training and testing set\n",
        "X_train, X_test, y_train, y_test = train_test_split(X, y, test_size=0.3, random_state=42)\n",
        "\n",
        "\n",
        "#Creating Logisitic Regression model\n",
        "model = LogisticRegression()\n",
        "model.fit(X_train,y_train)\n",
        "\n",
        "#Predicting on Test set\n",
        "predictions = model.predict(X_test)\n",
        "\n",
        "print(accuracy_score(y_test,predictions))\n",
        "print(confusion_matrix(y_test,predictions))\n",
        "print(classification_report(y_test, predictions))"
      ],
      "execution_count": 42,
      "outputs": [
        {
          "output_type": "stream",
          "text": [
            "0.8435186462500575\n",
            "[[    0    20     0    95]\n",
            " [    0 17239     0   707]\n",
            " [    0     0     0     1]\n",
            " [    0  2580     0  1105]]\n",
            "              precision    recall  f1-score   support\n",
            "\n",
            "           0       0.00      0.00      0.00       115\n",
            "           1       0.87      0.96      0.91     17946\n",
            "           2       0.00      0.00      0.00         1\n",
            "           3       0.58      0.30      0.40      3685\n",
            "\n",
            "    accuracy                           0.84     21747\n",
            "   macro avg       0.36      0.32      0.33     21747\n",
            "weighted avg       0.82      0.84      0.82     21747\n",
            "\n"
          ],
          "name": "stdout"
        }
      ]
    }
  ]
}